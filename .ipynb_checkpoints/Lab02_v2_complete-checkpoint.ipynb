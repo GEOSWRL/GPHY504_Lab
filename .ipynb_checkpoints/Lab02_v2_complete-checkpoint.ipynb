{
 "cells": [
  {
   "cell_type": "markdown",
   "metadata": {
    "id": "M-1nlKYDdtv6"
   },
   "source": [
    "# Lab02 - Data manipulation, geostatistical analysis, and mapping\n",
    "\n",
    "Learning goals\n",
    "\n",
    "- develop skills in importing and modifying data using python.\n",
    "- perform geographic statistical operations and transformations using python\n",
    "- devlop skill in new and innovative means of mapping\n",
    "\n",
    "---\n",
    "\n",
    "This lab will look at an incredibly esoteric dataset and question. How has the geographic center of baseball teams shifted since 1900.\n",
    "\n",
    "*Disclaimer* - I do not really even like baseball, but it is a cool dataset and also tells us a bit about how we have shifted geographically as a society.\n",
    "\n",
    "*Disclaimer* - Liam really likes baseball, go Cubs\n",
    "\n",
    "*Discliaimer* - Maddie knows nothing about baseball\n",
    "\n"
   ]
  },
  {
   "cell_type": "code",
   "execution_count": 1,
   "metadata": {
    "colab": {
     "base_uri": "https://localhost:8080/"
    },
    "id": "QuHQLxnIWgrc",
    "outputId": "981903e8-2cfd-4c3c-b78b-97a64d0bbf66"
   },
   "outputs": [
    {
     "name": "stdout",
     "output_type": "stream",
     "text": [
      "The operation couldn’t be completed. Unable to locate a Java Runtime.\n",
      "Please visit http://www.java.com for information on installing Java.\n",
      "\n",
      "The operation couldn’t be completed. Unable to locate a Java Runtime.\n",
      "Please visit http://www.java.com for information on installing Java.\n",
      "\n",
      "  \u001b[1;31merror\u001b[0m: \u001b[1msubprocess-exited-with-error\u001b[0m\n",
      "  \n",
      "  \u001b[31m×\u001b[0m \u001b[32mgit clone --\u001b[0m\u001b[32mfilter\u001b[0m\u001b[32m=\u001b[0m\u001b[32mblob\u001b[0m\u001b[32m:none --quiet git:\u001b[0m\u001b[32m/\u001b[0m\u001b[32m/github.com/geopandas/\u001b[0m\u001b[32mgeopandas.git\u001b[0m\u001b[32m \u001b[0m\u001b[32m/private/var/folders/1h/qds9mkm123b7fhmghg50vg6w62xq56/T/\u001b[0m\u001b[32mpip-req-build-ojv2l_nk\u001b[0m did not run successfully.\n",
      "  \u001b[31m│\u001b[0m exit code: \u001b[1;36m128\u001b[0m\n",
      "  \u001b[31m╰─>\u001b[0m \u001b[31m[3 lines of output]\u001b[0m\n",
      "  \u001b[31m   \u001b[0m fatal: unable to connect to github.com:\n",
      "  \u001b[31m   \u001b[0m github.com[0: 140.82.113.4]: errno=Operation timed out\n",
      "  \u001b[31m   \u001b[0m \n",
      "  \u001b[31m   \u001b[0m \u001b[31m[end of output]\u001b[0m\n",
      "  \n",
      "  \u001b[1;35mnote\u001b[0m: This error originates from a subprocess, and is likely not a problem with pip.\n",
      "\u001b[1;31merror\u001b[0m: \u001b[1msubprocess-exited-with-error\u001b[0m\n",
      "\n",
      "\u001b[31m×\u001b[0m \u001b[32mgit clone --\u001b[0m\u001b[32mfilter\u001b[0m\u001b[32m=\u001b[0m\u001b[32mblob\u001b[0m\u001b[32m:none --quiet git:\u001b[0m\u001b[32m/\u001b[0m\u001b[32m/github.com/geopandas/\u001b[0m\u001b[32mgeopandas.git\u001b[0m\u001b[32m \u001b[0m\u001b[32m/private/var/folders/1h/qds9mkm123b7fhmghg50vg6w62xq56/T/\u001b[0m\u001b[32mpip-req-build-ojv2l_nk\u001b[0m did not run successfully.\n",
      "\u001b[31m│\u001b[0m exit code: \u001b[1;36m128\u001b[0m\n",
      "\u001b[31m╰─>\u001b[0m See above for output.\n",
      "\n",
      "\u001b[1;35mnote\u001b[0m: This error originates from a subprocess, and is likely not a problem with pip.\n",
      "/bin/bash: apt-get: command not found\n",
      "/bin/bash: add-apt-repository: command not found\n",
      "/bin/bash: apt-get: command not found\n"
     ]
    }
   ],
   "source": [
    "# This will install all of the required packages and modules\n",
    "!apt install libspatialindex-dev --quiet\n",
    "!apt install folium --quiet\n",
    "!pip install rtree --quiet\n",
    "!pip install geopandas --quiet\n",
    "!pip install -U --no-deps mapclassify git+git://github.com/geopandas/geopandas.git@master --quiet\n",
    "!pip install descartes --quiet # Helps geopandas plot polygons\n",
    "!pip install rtree --quiet\n",
    "!pip install pysal --quiet # Map classifiers for choropleth maps\n",
    "!apt-get install software-properties-common python-software-properties > /dev/null\n",
    "!add-apt-repository ppa:ubuntugis/ppa -y > /dev/null\n",
    "!apt-get update > /dev/null\n",
    "#!apt-get install -y --fix-missing python-gdal gdal-bin libgdal-dev > /dev/null\n",
    "#!pip2 install OpticalRS > /dev/null"
   ]
  },
  {
   "cell_type": "code",
   "execution_count": 4,
   "metadata": {
    "colab": {
     "base_uri": "https://localhost:8080/"
    },
    "id": "MIHzFJuT0vDD",
    "outputId": "dcf64ce2-8347-45e1-c4b2-576cf66358f6"
   },
   "outputs": [],
   "source": [
    "# First lets import the packages we will need. Always put these up front!\n",
    "%matplotlib inline\n",
    "import numpy as np\n",
    "import math\n",
    "import folium #Folium is a library that allows us to create webmaps\n",
    "# This will get all of the libraries (subcomponents of the packages and modules).  \n",
    "import matplotlib as mpl\n",
    "import matplotlib.pyplot as plt\n",
    "import pandas as pd\n",
    "import seaborn as sns\n",
    "import statistics\n",
    "import scipy\n",
    "from scipy.stats import kurtosis\n",
    "from scipy.stats import skew\n",
    "from scipy.stats import variation\n",
    "import geopandas as gpd\n",
    "import mapclassify\n",
    "import os"
   ]
  },
  {
   "cell_type": "code",
   "execution_count": 5,
   "metadata": {},
   "outputs": [],
   "source": [
    "# Change your computer's directory to where you have saved the baseball .csv file\n",
    "os.chdir(\"/Users/f67f911/Desktop/GPHY504_Lab/\")"
   ]
  },
  {
   "cell_type": "code",
   "execution_count": 45,
   "metadata": {
    "colab": {
     "base_uri": "https://localhost:8080/",
     "height": 56,
     "resources": {
      "http://localhost:8080/nbextensions/google.colab/files.js": {
       "data": "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",
       "headers": [
        [
         "content-type",
         "application/javascript"
        ]
       ],
       "ok": true,
       "status": 200,
       "status_text": ""
      }
     }
    },
    "id": "suvrIFoV1M0c",
    "outputId": "c31f9119-4524-4b5c-bed0-8ce8613b6d67"
   },
   "outputs": [
    {
     "ename": "ModuleNotFoundError",
     "evalue": "No module named 'google'",
     "output_type": "error",
     "traceback": [
      "\u001b[0;31m---------------------------------------------------------------------------\u001b[0m",
      "\u001b[0;31mModuleNotFoundError\u001b[0m                       Traceback (most recent call last)",
      "Input \u001b[0;32mIn [45]\u001b[0m, in \u001b[0;36m<cell line: 2>\u001b[0;34m()\u001b[0m\n\u001b[1;32m      1\u001b[0m \u001b[38;5;66;03m# Now upload the the Baseball_Decades.csv file. This is on D2L. Use this format for uploading small datasets in the future\u001b[39;00m\n\u001b[0;32m----> 2\u001b[0m \u001b[38;5;28;01mfrom\u001b[39;00m \u001b[38;5;21;01mgoogle\u001b[39;00m\u001b[38;5;21;01m.\u001b[39;00m\u001b[38;5;21;01mcolab\u001b[39;00m \u001b[38;5;28;01mimport\u001b[39;00m files\n\u001b[1;32m      3\u001b[0m uploaded \u001b[38;5;241m=\u001b[39m files\u001b[38;5;241m.\u001b[39mupload()\n",
      "\u001b[0;31mModuleNotFoundError\u001b[0m: No module named 'google'"
     ]
    }
   ],
   "source": [
    "# Now upload the the Baseball_Decades.csv file. This is on D2L. Use this format for uploading small datasets in the future\n",
    "from google.colab import files\n",
    "uploaded = files.upload()"
   ]
  },
  {
   "cell_type": "code",
   "execution_count": 7,
   "metadata": {
    "colab": {
     "base_uri": "https://localhost:8080/"
    },
    "id": "afg7hivE15wS",
    "outputId": "df4d93fa-75f5-4622-ba68-49d3b5001276"
   },
   "outputs": [
    {
     "name": "stdout",
     "output_type": "stream",
     "text": [
      "<bound method NDFrame.head of      Decade        Team   State  Latitude  Longitude\n",
      "0      1900      Boston      MA  42.35866   -71.0567\n",
      "1      1900    Brooklyn      NY  40.69245   -73.9904\n",
      "2      1900     Chicago      IL  41.88425   -87.6324\n",
      "3      1900  Cincinnati      OH  39.10713   -84.5041\n",
      "4      1900    New York      NY  40.78200   -73.8317\n",
      "..      ...         ...     ...       ...        ...\n",
      "137    2010   St. Louis      MO  38.62775   -90.1996\n",
      "138    2010   Tampa Bay      FL  27.58300   -82.6330\n",
      "139    2010       Tempe      AZ  33.42551  -111.9370\n",
      "140    2010     Toronto  Canada  43.65740   -79.4328\n",
      "141    2010  Washington      DC  38.89037   -77.0320\n",
      "\n",
      "[142 rows x 5 columns]>\n",
      "Decade         int64\n",
      "Team          object\n",
      "State         object\n",
      "Latitude     float64\n",
      "Longitude    float64\n",
      "dtype: object\n"
     ]
    }
   ],
   "source": [
    "# read in the csv file and look at it\n",
    "# Since you have changed your directory, this should automatically be read in\n",
    "df = pd.read_csv('Baseball_Decades.csv')\n",
    "print(df.head)\n",
    "print(df.dtypes)"
   ]
  },
  {
   "cell_type": "markdown",
   "metadata": {
    "id": "I48T51vYfxe9"
   },
   "source": [
    "It is important to look at the data types and understand the data, this will potentially mess you up later on. "
   ]
  },
  {
   "cell_type": "markdown",
   "metadata": {
    "id": "Hp1c316c3o6J"
   },
   "source": [
    "### Indexing\n",
    "\n",
    "[Indexing](https://pandas.pydata.org/pandas-docs/stable/user_guide/indexing.html) on a pandas DataFrame allows you to subset or filter the data based upon a condition(s) that you provide.\n",
    "\n",
    "A couple new concepts: To access all rows of one or more columns, we can simply specify the column names in brackets. Note that the printout doesn't print all of our values, but tells us the total length of the column and also tells us the data type of all elements of the column. Since each pandas DataFrame column is a NumPy array, all values in a column have the same data type."
   ]
  },
  {
   "cell_type": "code",
   "execution_count": 8,
   "metadata": {
    "colab": {
     "base_uri": "https://localhost:8080/"
    },
    "id": "mKc3gZoQ3qlX",
    "outputId": "a452eb27-46a8-4a54-a1f5-cdc5ae4e2aa1"
   },
   "outputs": [
    {
     "name": "stdout",
     "output_type": "stream",
     "text": [
      "0          Boston\n",
      "1        Brooklyn\n",
      "2         Chicago\n",
      "3      Cincinnati\n",
      "4        New York\n",
      "          ...    \n",
      "137     St. Louis\n",
      "138     Tampa Bay\n",
      "139         Tempe\n",
      "140       Toronto\n",
      "141    Washington\n",
      "Name: Team, Length: 142, dtype: object\n"
     ]
    }
   ],
   "source": [
    "print(df['Team']) # just print out the column of the cities that had a team"
   ]
  },
  {
   "cell_type": "code",
   "execution_count": 37,
   "metadata": {},
   "outputs": [
    {
     "name": "stdout",
     "output_type": "stream",
     "text": [
      "[1900 1920 1940 1960 1980 2000 2010]\n"
     ]
    }
   ],
   "source": [
    "print(df['Decade'].unique())"
   ]
  },
  {
   "cell_type": "markdown",
   "metadata": {
    "id": "LxNIhWVt4Psb"
   },
   "source": [
    "To access data by index labels, we must use the `.loc` attribute before the brackets. Recall from above that we currently have a `RangeIndex` with numbers that go from 0 to 141 with a step size of 1."
   ]
  },
  {
   "cell_type": "code",
   "execution_count": 9,
   "metadata": {
    "colab": {
     "base_uri": "https://localhost:8080/"
    },
    "id": "cjaO9Tcp6J4Z",
    "outputId": "71460356-6065-4f5c-eba0-f48da5f561e1"
   },
   "outputs": [
    {
     "data": {
      "text/plain": [
       "Decade           1900\n",
       "Team           Boston\n",
       "State              MA\n",
       "Latitude     42.35866\n",
       "Longitude    -71.0567\n",
       "Name: 0, dtype: object"
      ]
     },
     "execution_count": 9,
     "metadata": {},
     "output_type": "execute_result"
    }
   ],
   "source": [
    "df.loc[0] # just grab the first row"
   ]
  },
  {
   "cell_type": "code",
   "execution_count": 11,
   "metadata": {
    "colab": {
     "base_uri": "https://localhost:8080/",
     "height": 394
    },
    "id": "WVJcjE1V6V5W",
    "outputId": "95a10b7a-d467-4541-efc6-72003fa520b4"
   },
   "outputs": [
    {
     "data": {
      "text/html": [
       "<div>\n",
       "<style scoped>\n",
       "    .dataframe tbody tr th:only-of-type {\n",
       "        vertical-align: middle;\n",
       "    }\n",
       "\n",
       "    .dataframe tbody tr th {\n",
       "        vertical-align: top;\n",
       "    }\n",
       "\n",
       "    .dataframe thead th {\n",
       "        text-align: right;\n",
       "    }\n",
       "</style>\n",
       "<table border=\"1\" class=\"dataframe\">\n",
       "  <thead>\n",
       "    <tr style=\"text-align: right;\">\n",
       "      <th></th>\n",
       "      <th>Decade</th>\n",
       "      <th>Team</th>\n",
       "      <th>State</th>\n",
       "      <th>Latitude</th>\n",
       "      <th>Longitude</th>\n",
       "    </tr>\n",
       "  </thead>\n",
       "  <tbody>\n",
       "    <tr>\n",
       "      <th>70</th>\n",
       "      <td>1980</td>\n",
       "      <td>Minneapolis</td>\n",
       "      <td>MN</td>\n",
       "      <td>44.97903</td>\n",
       "      <td>-93.2649</td>\n",
       "    </tr>\n",
       "    <tr>\n",
       "      <th>71</th>\n",
       "      <td>1980</td>\n",
       "      <td>Montreal</td>\n",
       "      <td>Canada</td>\n",
       "      <td>45.51720</td>\n",
       "      <td>-73.5499</td>\n",
       "    </tr>\n",
       "    <tr>\n",
       "      <th>72</th>\n",
       "      <td>1980</td>\n",
       "      <td>New York</td>\n",
       "      <td>NY</td>\n",
       "      <td>40.78200</td>\n",
       "      <td>-73.8317</td>\n",
       "    </tr>\n",
       "    <tr>\n",
       "      <th>73</th>\n",
       "      <td>1980</td>\n",
       "      <td>New York</td>\n",
       "      <td>NY</td>\n",
       "      <td>40.78200</td>\n",
       "      <td>-73.8317</td>\n",
       "    </tr>\n",
       "    <tr>\n",
       "      <th>74</th>\n",
       "      <td>1980</td>\n",
       "      <td>Oakland</td>\n",
       "      <td>CA</td>\n",
       "      <td>37.80508</td>\n",
       "      <td>-122.2730</td>\n",
       "    </tr>\n",
       "    <tr>\n",
       "      <th>75</th>\n",
       "      <td>1980</td>\n",
       "      <td>Philadelphia</td>\n",
       "      <td>PA</td>\n",
       "      <td>39.95228</td>\n",
       "      <td>-75.1625</td>\n",
       "    </tr>\n",
       "    <tr>\n",
       "      <th>76</th>\n",
       "      <td>1980</td>\n",
       "      <td>Pittsburgh</td>\n",
       "      <td>PA</td>\n",
       "      <td>40.43834</td>\n",
       "      <td>-79.9975</td>\n",
       "    </tr>\n",
       "    <tr>\n",
       "      <th>77</th>\n",
       "      <td>1980</td>\n",
       "      <td>San Diego</td>\n",
       "      <td>CA</td>\n",
       "      <td>32.71569</td>\n",
       "      <td>-117.1620</td>\n",
       "    </tr>\n",
       "    <tr>\n",
       "      <th>78</th>\n",
       "      <td>1980</td>\n",
       "      <td>San Francisco</td>\n",
       "      <td>CA</td>\n",
       "      <td>37.77712</td>\n",
       "      <td>-122.4200</td>\n",
       "    </tr>\n",
       "    <tr>\n",
       "      <th>79</th>\n",
       "      <td>1980</td>\n",
       "      <td>Seattle</td>\n",
       "      <td>WA</td>\n",
       "      <td>47.60357</td>\n",
       "      <td>-122.3290</td>\n",
       "    </tr>\n",
       "    <tr>\n",
       "      <th>80</th>\n",
       "      <td>1980</td>\n",
       "      <td>St. Louis</td>\n",
       "      <td>MO</td>\n",
       "      <td>38.62775</td>\n",
       "      <td>-90.1996</td>\n",
       "    </tr>\n",
       "  </tbody>\n",
       "</table>\n",
       "</div>"
      ],
      "text/plain": [
       "    Decade           Team   State  Latitude  Longitude\n",
       "70    1980    Minneapolis      MN  44.97903   -93.2649\n",
       "71    1980       Montreal  Canada  45.51720   -73.5499\n",
       "72    1980       New York      NY  40.78200   -73.8317\n",
       "73    1980       New York      NY  40.78200   -73.8317\n",
       "74    1980        Oakland      CA  37.80508  -122.2730\n",
       "75    1980   Philadelphia      PA  39.95228   -75.1625\n",
       "76    1980     Pittsburgh      PA  40.43834   -79.9975\n",
       "77    1980      San Diego      CA  32.71569  -117.1620\n",
       "78    1980  San Francisco      CA  37.77712  -122.4200\n",
       "79    1980        Seattle      WA  47.60357  -122.3290\n",
       "80    1980      St. Louis      MO  38.62775   -90.1996"
      ]
     },
     "execution_count": 11,
     "metadata": {},
     "output_type": "execute_result"
    }
   ],
   "source": [
    "df.loc[70:80] # grab rows 70 - 80"
   ]
  },
  {
   "cell_type": "code",
   "execution_count": 12,
   "metadata": {
    "colab": {
     "base_uri": "https://localhost:8080/",
     "height": 394
    },
    "id": "kdrSF9ho6fjX",
    "outputId": "24b6f568-0a22-4097-f840-8866cdea9d04"
   },
   "outputs": [
    {
     "data": {
      "text/html": [
       "<div>\n",
       "<style scoped>\n",
       "    .dataframe tbody tr th:only-of-type {\n",
       "        vertical-align: middle;\n",
       "    }\n",
       "\n",
       "    .dataframe tbody tr th {\n",
       "        vertical-align: top;\n",
       "    }\n",
       "\n",
       "    .dataframe thead th {\n",
       "        text-align: right;\n",
       "    }\n",
       "</style>\n",
       "<table border=\"1\" class=\"dataframe\">\n",
       "  <thead>\n",
       "    <tr style=\"text-align: right;\">\n",
       "      <th></th>\n",
       "      <th>Team</th>\n",
       "      <th>Decade</th>\n",
       "    </tr>\n",
       "  </thead>\n",
       "  <tbody>\n",
       "    <tr>\n",
       "      <th>10</th>\n",
       "      <td>Brooklyn</td>\n",
       "      <td>1920</td>\n",
       "    </tr>\n",
       "    <tr>\n",
       "      <th>11</th>\n",
       "      <td>Chicago</td>\n",
       "      <td>1920</td>\n",
       "    </tr>\n",
       "    <tr>\n",
       "      <th>12</th>\n",
       "      <td>Chicago</td>\n",
       "      <td>1920</td>\n",
       "    </tr>\n",
       "    <tr>\n",
       "      <th>13</th>\n",
       "      <td>Cincinnati</td>\n",
       "      <td>1920</td>\n",
       "    </tr>\n",
       "    <tr>\n",
       "      <th>14</th>\n",
       "      <td>Cleveland</td>\n",
       "      <td>1920</td>\n",
       "    </tr>\n",
       "    <tr>\n",
       "      <th>15</th>\n",
       "      <td>Detroit</td>\n",
       "      <td>1920</td>\n",
       "    </tr>\n",
       "    <tr>\n",
       "      <th>16</th>\n",
       "      <td>New York</td>\n",
       "      <td>1920</td>\n",
       "    </tr>\n",
       "    <tr>\n",
       "      <th>17</th>\n",
       "      <td>New York</td>\n",
       "      <td>1920</td>\n",
       "    </tr>\n",
       "    <tr>\n",
       "      <th>18</th>\n",
       "      <td>Philadelphia</td>\n",
       "      <td>1920</td>\n",
       "    </tr>\n",
       "    <tr>\n",
       "      <th>19</th>\n",
       "      <td>Philadelphia</td>\n",
       "      <td>1920</td>\n",
       "    </tr>\n",
       "    <tr>\n",
       "      <th>20</th>\n",
       "      <td>Pittsburgh</td>\n",
       "      <td>1920</td>\n",
       "    </tr>\n",
       "  </tbody>\n",
       "</table>\n",
       "</div>"
      ],
      "text/plain": [
       "            Team  Decade\n",
       "10      Brooklyn    1920\n",
       "11       Chicago    1920\n",
       "12       Chicago    1920\n",
       "13    Cincinnati    1920\n",
       "14     Cleveland    1920\n",
       "15       Detroit    1920\n",
       "16      New York    1920\n",
       "17      New York    1920\n",
       "18  Philadelphia    1920\n",
       "19  Philadelphia    1920\n",
       "20    Pittsburgh    1920"
      ]
     },
     "execution_count": 12,
     "metadata": {},
     "output_type": "execute_result"
    }
   ],
   "source": [
    "df.loc[10:20, ['Team','Decade']] # grab rows 10 - 20, but just the team and decade columns. \n",
    "# Notice how the column order was switched."
   ]
  },
  {
   "cell_type": "markdown",
   "metadata": {
    "id": "5M6JPRPT6DYo"
   },
   "source": [
    "We can use conditional statements and boolean logic in combination with `.loc` as well. Instead of the English words `and` and `or` like we used in Lab 1 conditional statements, use `&` and `|` characters for bitwise comparisons in the `.loc` statements. Also note that multiple logical statements each need to be enclosed in their own parentheses:\n",
    "\n",
    "Lets find all of the data for 1960..."
   ]
  },
  {
   "cell_type": "code",
   "execution_count": 13,
   "metadata": {
    "colab": {
     "base_uri": "https://localhost:8080/",
     "height": 300
    },
    "id": "eol5AHka6CN-",
    "outputId": "869288c1-4fe1-4eae-ecef-9113d0541981"
   },
   "outputs": [
    {
     "data": {
      "text/html": [
       "<div>\n",
       "<style scoped>\n",
       "    .dataframe tbody tr th:only-of-type {\n",
       "        vertical-align: middle;\n",
       "    }\n",
       "\n",
       "    .dataframe tbody tr th {\n",
       "        vertical-align: top;\n",
       "    }\n",
       "\n",
       "    .dataframe thead th {\n",
       "        text-align: right;\n",
       "    }\n",
       "</style>\n",
       "<table border=\"1\" class=\"dataframe\">\n",
       "  <thead>\n",
       "    <tr style=\"text-align: right;\">\n",
       "      <th></th>\n",
       "      <th>Decade</th>\n",
       "      <th>Team</th>\n",
       "      <th>State</th>\n",
       "      <th>Latitude</th>\n",
       "      <th>Longitude</th>\n",
       "    </tr>\n",
       "  </thead>\n",
       "  <tbody>\n",
       "    <tr>\n",
       "      <th>40</th>\n",
       "      <td>1960</td>\n",
       "      <td>Baltimore</td>\n",
       "      <td>MD</td>\n",
       "      <td>39.29058</td>\n",
       "      <td>-76.6093</td>\n",
       "    </tr>\n",
       "    <tr>\n",
       "      <th>41</th>\n",
       "      <td>1960</td>\n",
       "      <td>Boston</td>\n",
       "      <td>MA</td>\n",
       "      <td>42.35866</td>\n",
       "      <td>-71.0567</td>\n",
       "    </tr>\n",
       "    <tr>\n",
       "      <th>42</th>\n",
       "      <td>1960</td>\n",
       "      <td>Chicago</td>\n",
       "      <td>IL</td>\n",
       "      <td>41.88425</td>\n",
       "      <td>-87.6324</td>\n",
       "    </tr>\n",
       "    <tr>\n",
       "      <th>43</th>\n",
       "      <td>1960</td>\n",
       "      <td>Chicago</td>\n",
       "      <td>IL</td>\n",
       "      <td>41.88425</td>\n",
       "      <td>-87.6324</td>\n",
       "    </tr>\n",
       "    <tr>\n",
       "      <th>44</th>\n",
       "      <td>1960</td>\n",
       "      <td>Cincinnati</td>\n",
       "      <td>OH</td>\n",
       "      <td>39.10713</td>\n",
       "      <td>-84.5041</td>\n",
       "    </tr>\n",
       "    <tr>\n",
       "      <th>45</th>\n",
       "      <td>1960</td>\n",
       "      <td>Cleveland</td>\n",
       "      <td>OH</td>\n",
       "      <td>41.50475</td>\n",
       "      <td>-81.6907</td>\n",
       "    </tr>\n",
       "    <tr>\n",
       "      <th>46</th>\n",
       "      <td>1960</td>\n",
       "      <td>Detroit</td>\n",
       "      <td>MI</td>\n",
       "      <td>42.33168</td>\n",
       "      <td>-83.0480</td>\n",
       "    </tr>\n",
       "    <tr>\n",
       "      <th>47</th>\n",
       "      <td>1960</td>\n",
       "      <td>Kansas City</td>\n",
       "      <td>MO</td>\n",
       "      <td>39.10295</td>\n",
       "      <td>-94.5831</td>\n",
       "    </tr>\n",
       "    <tr>\n",
       "      <th>48</th>\n",
       "      <td>1960</td>\n",
       "      <td>Los Angeles</td>\n",
       "      <td>CA</td>\n",
       "      <td>34.05349</td>\n",
       "      <td>-118.2450</td>\n",
       "    </tr>\n",
       "    <tr>\n",
       "      <th>49</th>\n",
       "      <td>1960</td>\n",
       "      <td>Milwaukee</td>\n",
       "      <td>WI</td>\n",
       "      <td>43.04181</td>\n",
       "      <td>-87.9068</td>\n",
       "    </tr>\n",
       "    <tr>\n",
       "      <th>50</th>\n",
       "      <td>1960</td>\n",
       "      <td>New York</td>\n",
       "      <td>NY</td>\n",
       "      <td>40.78200</td>\n",
       "      <td>-73.8317</td>\n",
       "    </tr>\n",
       "    <tr>\n",
       "      <th>51</th>\n",
       "      <td>1960</td>\n",
       "      <td>Philadelphia</td>\n",
       "      <td>PA</td>\n",
       "      <td>39.95228</td>\n",
       "      <td>-75.1625</td>\n",
       "    </tr>\n",
       "    <tr>\n",
       "      <th>52</th>\n",
       "      <td>1960</td>\n",
       "      <td>Pittsburgh</td>\n",
       "      <td>PA</td>\n",
       "      <td>40.43834</td>\n",
       "      <td>-79.9975</td>\n",
       "    </tr>\n",
       "    <tr>\n",
       "      <th>53</th>\n",
       "      <td>1960</td>\n",
       "      <td>San Francisco</td>\n",
       "      <td>CA</td>\n",
       "      <td>37.77712</td>\n",
       "      <td>-122.4200</td>\n",
       "    </tr>\n",
       "    <tr>\n",
       "      <th>54</th>\n",
       "      <td>1960</td>\n",
       "      <td>St. Louis</td>\n",
       "      <td>MO</td>\n",
       "      <td>38.62775</td>\n",
       "      <td>-90.1996</td>\n",
       "    </tr>\n",
       "    <tr>\n",
       "      <th>55</th>\n",
       "      <td>1960</td>\n",
       "      <td>Washington</td>\n",
       "      <td>DC</td>\n",
       "      <td>38.89037</td>\n",
       "      <td>-77.0320</td>\n",
       "    </tr>\n",
       "  </tbody>\n",
       "</table>\n",
       "</div>"
      ],
      "text/plain": [
       "    Decade           Team State  Latitude  Longitude\n",
       "40    1960      Baltimore    MD  39.29058   -76.6093\n",
       "41    1960         Boston    MA  42.35866   -71.0567\n",
       "42    1960        Chicago    IL  41.88425   -87.6324\n",
       "43    1960        Chicago    IL  41.88425   -87.6324\n",
       "44    1960     Cincinnati    OH  39.10713   -84.5041\n",
       "45    1960      Cleveland    OH  41.50475   -81.6907\n",
       "46    1960        Detroit    MI  42.33168   -83.0480\n",
       "47    1960    Kansas City    MO  39.10295   -94.5831\n",
       "48    1960    Los Angeles    CA  34.05349  -118.2450\n",
       "49    1960      Milwaukee    WI  43.04181   -87.9068\n",
       "50    1960       New York    NY  40.78200   -73.8317\n",
       "51    1960   Philadelphia    PA  39.95228   -75.1625\n",
       "52    1960     Pittsburgh    PA  40.43834   -79.9975\n",
       "53    1960  San Francisco    CA  37.77712  -122.4200\n",
       "54    1960      St. Louis    MO  38.62775   -90.1996\n",
       "55    1960     Washington    DC  38.89037   -77.0320"
      ]
     },
     "execution_count": 13,
     "metadata": {},
     "output_type": "execute_result"
    }
   ],
   "source": [
    "teams_1960s = df.loc[df['Decade'] == 1960]\n",
    "teams_1960s"
   ]
  },
  {
   "cell_type": "markdown",
   "metadata": {
    "id": "tS9TLmy3gdD4"
   },
   "source": [
    "Let's just look at the teams in the 1960s that were in Ohio."
   ]
  },
  {
   "cell_type": "code",
   "execution_count": 14,
   "metadata": {
    "colab": {
     "base_uri": "https://localhost:8080/",
     "height": 112
    },
    "id": "w_gqOsMZ6YGG",
    "outputId": "f4af393a-1097-407b-b0af-8c0a85c7c79c"
   },
   "outputs": [
    {
     "data": {
      "text/html": [
       "<div>\n",
       "<style scoped>\n",
       "    .dataframe tbody tr th:only-of-type {\n",
       "        vertical-align: middle;\n",
       "    }\n",
       "\n",
       "    .dataframe tbody tr th {\n",
       "        vertical-align: top;\n",
       "    }\n",
       "\n",
       "    .dataframe thead th {\n",
       "        text-align: right;\n",
       "    }\n",
       "</style>\n",
       "<table border=\"1\" class=\"dataframe\">\n",
       "  <thead>\n",
       "    <tr style=\"text-align: right;\">\n",
       "      <th></th>\n",
       "      <th>Decade</th>\n",
       "      <th>Team</th>\n",
       "      <th>State</th>\n",
       "      <th>Latitude</th>\n",
       "      <th>Longitude</th>\n",
       "    </tr>\n",
       "  </thead>\n",
       "  <tbody>\n",
       "    <tr>\n",
       "      <th>44</th>\n",
       "      <td>1960</td>\n",
       "      <td>Cincinnati</td>\n",
       "      <td>OH</td>\n",
       "      <td>39.10713</td>\n",
       "      <td>-84.5041</td>\n",
       "    </tr>\n",
       "    <tr>\n",
       "      <th>45</th>\n",
       "      <td>1960</td>\n",
       "      <td>Cleveland</td>\n",
       "      <td>OH</td>\n",
       "      <td>41.50475</td>\n",
       "      <td>-81.6907</td>\n",
       "    </tr>\n",
       "  </tbody>\n",
       "</table>\n",
       "</div>"
      ],
      "text/plain": [
       "    Decade        Team State  Latitude  Longitude\n",
       "44    1960  Cincinnati    OH  39.10713   -84.5041\n",
       "45    1960   Cleveland    OH  41.50475   -81.6907"
      ]
     },
     "execution_count": 14,
     "metadata": {},
     "output_type": "execute_result"
    }
   ],
   "source": [
    "# Combine a numerical value (Decade) with a text string (State)\n",
    "data_1960_OH = df.loc[(df['Decade'] == 1960) & df.State.str.contains('OH')]\n",
    "data_1960_OH"
   ]
  },
  {
   "cell_type": "code",
   "execution_count": 15,
   "metadata": {
    "colab": {
     "base_uri": "https://localhost:8080/",
     "height": 112
    },
    "id": "jZapuqPmbah-",
    "outputId": "f2a6ee69-0bff-4146-d0d5-95691f3e47b0"
   },
   "outputs": [
    {
     "data": {
      "text/html": [
       "<div>\n",
       "<style scoped>\n",
       "    .dataframe tbody tr th:only-of-type {\n",
       "        vertical-align: middle;\n",
       "    }\n",
       "\n",
       "    .dataframe tbody tr th {\n",
       "        vertical-align: top;\n",
       "    }\n",
       "\n",
       "    .dataframe thead th {\n",
       "        text-align: right;\n",
       "    }\n",
       "</style>\n",
       "<table border=\"1\" class=\"dataframe\">\n",
       "  <thead>\n",
       "    <tr style=\"text-align: right;\">\n",
       "      <th></th>\n",
       "      <th>Decade</th>\n",
       "      <th>Team</th>\n",
       "      <th>State</th>\n",
       "      <th>Latitude</th>\n",
       "      <th>Longitude</th>\n",
       "    </tr>\n",
       "  </thead>\n",
       "  <tbody>\n",
       "    <tr>\n",
       "      <th>1</th>\n",
       "      <td>1900</td>\n",
       "      <td>Brooklyn</td>\n",
       "      <td>NY</td>\n",
       "      <td>40.69245</td>\n",
       "      <td>-73.9904</td>\n",
       "    </tr>\n",
       "    <tr>\n",
       "      <th>4</th>\n",
       "      <td>1900</td>\n",
       "      <td>New York</td>\n",
       "      <td>NY</td>\n",
       "      <td>40.78200</td>\n",
       "      <td>-73.8317</td>\n",
       "    </tr>\n",
       "  </tbody>\n",
       "</table>\n",
       "</div>"
      ],
      "text/plain": [
       "   Decade      Team State  Latitude  Longitude\n",
       "1    1900  Brooklyn    NY  40.69245   -73.9904\n",
       "4    1900  New York    NY  40.78200   -73.8317"
      ]
     },
     "execution_count": 15,
     "metadata": {},
     "output_type": "execute_result"
    }
   ],
   "source": [
    "# Combine a numerical value (Decade) with a text string (State)\n",
    "data_1900_NY = df.loc[(df['Decade'] == 1900) & df.State.str.contains('NY')]\n",
    "data_1900_NY"
   ]
  },
  {
   "cell_type": "code",
   "execution_count": 16,
   "metadata": {
    "colab": {
     "base_uri": "https://localhost:8080/",
     "height": 112
    },
    "id": "txdlqB4wbl56",
    "outputId": "27c02942-97e9-4d32-f025-abee15524d15"
   },
   "outputs": [
    {
     "data": {
      "text/html": [
       "<div>\n",
       "<style scoped>\n",
       "    .dataframe tbody tr th:only-of-type {\n",
       "        vertical-align: middle;\n",
       "    }\n",
       "\n",
       "    .dataframe tbody tr th {\n",
       "        vertical-align: top;\n",
       "    }\n",
       "\n",
       "    .dataframe thead th {\n",
       "        text-align: right;\n",
       "    }\n",
       "</style>\n",
       "<table border=\"1\" class=\"dataframe\">\n",
       "  <thead>\n",
       "    <tr style=\"text-align: right;\">\n",
       "      <th></th>\n",
       "      <th>Decade</th>\n",
       "      <th>Team</th>\n",
       "      <th>State</th>\n",
       "      <th>Latitude</th>\n",
       "      <th>Longitude</th>\n",
       "    </tr>\n",
       "  </thead>\n",
       "  <tbody>\n",
       "    <tr>\n",
       "      <th>99</th>\n",
       "      <td>2000</td>\n",
       "      <td>New York</td>\n",
       "      <td>NY</td>\n",
       "      <td>40.782</td>\n",
       "      <td>-73.8317</td>\n",
       "    </tr>\n",
       "    <tr>\n",
       "      <th>100</th>\n",
       "      <td>2000</td>\n",
       "      <td>New York</td>\n",
       "      <td>NY</td>\n",
       "      <td>40.782</td>\n",
       "      <td>-73.8317</td>\n",
       "    </tr>\n",
       "  </tbody>\n",
       "</table>\n",
       "</div>"
      ],
      "text/plain": [
       "     Decade      Team State  Latitude  Longitude\n",
       "99     2000  New York    NY    40.782   -73.8317\n",
       "100    2000  New York    NY    40.782   -73.8317"
      ]
     },
     "execution_count": 16,
     "metadata": {},
     "output_type": "execute_result"
    }
   ],
   "source": [
    "# Combine a numerical value (Decade) with a text string (State)\n",
    "data_2000_NY = df.loc[(df['Decade'] == 2000) & df.State.str.contains('NY')]\n",
    "data_2000_NY"
   ]
  },
  {
   "cell_type": "markdown",
   "metadata": {
    "id": "o6BCYvl1Dxr9"
   },
   "source": [
    "One of the things to notice are the differences between the following two lines of code:\n",
    "\n",
    "```\n",
    "df.loc[df['Decade'] == 1960]\n",
    "```\n",
    "\n",
    "```\n",
    "teams_1960s = df.loc[df['Decade'] == 1960]\n",
    "```\n",
    "While both code blocks might look the same, the first code block simply displays the selection, like a filter in Excel. The second code block actually creates a new variable from the subset.\n",
    "\n",
    "## Questions\n",
    "1. What team is saved in the 75th row? \n",
    "## Philadelphia is in the 74th row.\n",
    "2. How many baseball teams were in NY state in 1900? How many teams were in NY state in 2000?\n",
    "## There are two baseball teams in 1900 and also two in 2000.\n"
   ]
  },
  {
   "cell_type": "markdown",
   "metadata": {
    "id": "Ccjop_hdFRid"
   },
   "source": [
    "## Getting the Latitude and Longitude into a cartesian surface. \n",
    "\n",
    "While it is easier for us to visualize lat & lon, the reality is that it is good for a flat map, not something like a sphere. realities is that it is not great for measuring distance on something like a sphere. Because of the we need to convert the Latitude and Longitude column into radians and then into a Cartesian plane. This will give our locations a numeric values rather than and coordinate value.\n",
    "\n",
    "Convert Lat and Lon from degrees to radians using the general formulas.\n",
    "\n",
    "```\n",
    "lat_rad = lat * PI/180\n",
    "lon_rad = lon * PI/180\n",
    "```\n",
    "Now we need to get into a Cartesian space.\n",
    "\n",
    "```\n",
    "X = cos(lat_rad)*cos(lon_rad)\n",
    "Y = cos(lat_rad)*sin(lon_rad)\n",
    "Z = sin(lat_rad)\n",
    "```\n",
    "\n",
    "So now let's turn that into executable code. To see how that might work, you need to run the following code in a new code cell:\n",
    "\n",
    "\n",
    "\n",
    "```\n",
    "demo = pd.DataFrame({\"a\": [1, 2, 3], \"b\": [4, 5, 6]})\n",
    "demo[\"shiny_new_column\"] = df[\"a\"] * df[\"b\"]\n",
    "\n",
    "print(demo)\n",
    "```\n"
   ]
  },
  {
   "cell_type": "markdown",
   "metadata": {
    "id": "meG6IbOpLSmj"
   },
   "source": [
    "Now let's roll with this on our Baseball dataset. \n",
    "\n"
   ]
  },
  {
   "cell_type": "code",
   "execution_count": 17,
   "metadata": {
    "colab": {
     "base_uri": "https://localhost:8080/"
    },
    "id": "0DKvgld9MIZH",
    "outputId": "8eb7a1cf-e726-4bb4-e29d-af0ef6aa856f"
   },
   "outputs": [
    {
     "data": {
      "text/plain": [
       "3.141592653589793"
      ]
     },
     "execution_count": 17,
     "metadata": {},
     "output_type": "execute_result"
    }
   ],
   "source": [
    "PI = math.pi # set the PI variable using the math package for simplicity \n",
    "PI"
   ]
  },
  {
   "cell_type": "code",
   "execution_count": 18,
   "metadata": {
    "id": "JZJE-xQxNBwO"
   },
   "outputs": [],
   "source": [
    "# Finish this cell block for lon_rad\n",
    "df[\"lat_rad\"] = df[\"Latitude\"] * PI/180\n",
    "\n",
    "# You insert code for lon_rad here\n",
    "df[\"lon_rad\"] = df[\"Longitude\"] * PI/180\n"
   ]
  },
  {
   "cell_type": "markdown",
   "metadata": {
    "id": "ih_9Fl87OjNG"
   },
   "source": [
    "Now convert the X,Y,Z cartesian space."
   ]
  },
  {
   "cell_type": "code",
   "execution_count": 19,
   "metadata": {
    "id": "v-NfDbDQOjut"
   },
   "outputs": [],
   "source": [
    "df['X'] = np.cos(df.lat_rad)*np.cos(df.lon_rad)\n",
    "df['Y'] = np.cos(df.lat_rad)*np.sin(df.lon_rad)\n",
    "df['Z'] = np.sin(df.lat_rad)\n",
    "\n",
    "# You complete the code for Y and Z\n"
   ]
  },
  {
   "cell_type": "markdown",
   "metadata": {
    "id": "rIt27NB9QGx3"
   },
   "source": [
    "Alright so now we have our dataframe all set, now we just have to compute the geographic mean using the formulas:\n",
    "\n",
    "$\\overline{X} = \\frac{X_{n}}{n}$\n",
    "\n",
    "\n",
    "$\\overline{Y} = \\frac{Y_{n}}{n}$\n",
    "\n",
    "$\\overline{Z} = \\frac{Z_{n}}{n}$\n",
    "\n",
    "for each decade..."
   ]
  },
  {
   "cell_type": "markdown",
   "metadata": {
    "id": "VOGyJEhFSgi3"
   },
   "source": [
    "So  we need to do our analysis on the subset out each decade.\n",
    "\n",
    "Hmm...\n",
    "\n",
    "We need to go back to our indexing expertise. "
   ]
  },
  {
   "cell_type": "code",
   "execution_count": 20,
   "metadata": {
    "colab": {
     "base_uri": "https://localhost:8080/"
    },
    "id": "6VBvboKyTjTA",
    "outputId": "e6c4dd07-6fa0-4b4e-eddf-74e169b4f4a4"
   },
   "outputs": [
    {
     "name": "stdout",
     "output_type": "stream",
     "text": [
      "     Decade        Team   State  Latitude  Longitude   lat_rad   lon_rad  \\\n",
      "0      1900      Boston      MA  42.35866   -71.0567  0.739298 -1.240173   \n",
      "1      1900    Brooklyn      NY  40.69245   -73.9904  0.710217 -1.291376   \n",
      "2      1900     Chicago      IL  41.88425   -87.6324  0.731018 -1.529474   \n",
      "3      1900  Cincinnati      OH  39.10713   -84.5041  0.682548 -1.474875   \n",
      "4      1900    New York      NY  40.78200   -73.8317  0.711780 -1.288606   \n",
      "..      ...         ...     ...       ...        ...       ...       ...   \n",
      "137    2010   St. Louis      MO  38.62775   -90.1996  0.674181 -1.574280   \n",
      "138    2010   Tampa Bay      FL  27.58300   -82.6330  0.481414 -1.442218   \n",
      "139    2010       Tempe      AZ  33.42551  -111.9370  0.583385 -1.953669   \n",
      "140    2010     Toronto  Canada  43.65740   -79.4328  0.761965 -1.386364   \n",
      "141    2010  Washington      DC  38.89037   -77.0320  0.678765 -1.344462   \n",
      "\n",
      "            X         Y         Z  \n",
      "0    0.239884 -0.698921  0.673769  \n",
      "1    0.209116 -0.728813  0.651998  \n",
      "2    0.030756 -0.743860  0.667628  \n",
      "3    0.074318 -0.772401  0.630772  \n",
      "4    0.210850 -0.727251  0.653183  \n",
      "..        ...       ...       ...  \n",
      "137 -0.002722 -0.781213  0.624258  \n",
      "138  0.113651 -0.879024  0.463033  \n",
      "139 -0.311797 -0.774173  0.550852  \n",
      "140  0.132678 -0.711211  0.690345  \n",
      "141  0.174667 -0.758497  0.627832  \n",
      "\n",
      "[142 rows x 10 columns]\n"
     ]
    }
   ],
   "source": [
    "print(df)"
   ]
  },
  {
   "cell_type": "code",
   "execution_count": 21,
   "metadata": {
    "colab": {
     "base_uri": "https://localhost:8080/"
    },
    "id": "hk4MC5UL1rEv",
    "outputId": "cd2524a2-f235-44c8-97d4-245756652293"
   },
   "outputs": [
    {
     "name": "stdout",
     "output_type": "stream",
     "text": [
      "Decade       1960.000000\n",
      "Latitude       40.064213\n",
      "Longitude     -86.971988\n",
      "lat_rad         0.699252\n",
      "lon_rad        -1.517948\n",
      "X               0.038300\n",
      "Y              -0.740331\n",
      "Z               0.643188\n",
      "dtype: float64\n"
     ]
    },
    {
     "name": "stderr",
     "output_type": "stream",
     "text": [
      "/Users/f67f911/opt/anaconda3/envs/swe/lib/python3.10/site-packages/numpy/core/fromnumeric.py:3430: FutureWarning: In a future version, DataFrame.mean(axis=None) will return a scalar mean over the entire DataFrame. To retain the old behavior, use 'frame.mean(axis=0)' or just 'frame.mean()'\n",
      "  return mean(axis=axis, dtype=dtype, out=out, **kwargs)\n",
      "/Users/f67f911/opt/anaconda3/envs/swe/lib/python3.10/site-packages/numpy/core/fromnumeric.py:3430: FutureWarning: Dropping of nuisance columns in DataFrame reductions (with 'numeric_only=None') is deprecated; in a future version this will raise TypeError.  Select only valid columns before calling the reduction.\n",
      "  return mean(axis=axis, dtype=dtype, out=out, **kwargs)\n"
     ]
    }
   ],
   "source": [
    "data_1960X = np.mean(df.loc[(df['Decade'] == 1960)])\n",
    "print(data_1960X)"
   ]
  },
  {
   "cell_type": "markdown",
   "metadata": {
    "id": "7U8DzXIHhWVC"
   },
   "source": [
    "While that was pretty sweet, doing this for all of the decades will be a pain. Plus then you are going to have a variable (like data_1960X for each of the decades. \n",
    "\n",
    "This is where the power of computing really shows its strengths.\n",
    "\n",
    "Pandas `groupby` groups data according to the categories and apply a function to the categories.\n",
    "\n",
    "Let me show you what I mean."
   ]
  },
  {
   "cell_type": "code",
   "execution_count": 22,
   "metadata": {
    "colab": {
     "base_uri": "https://localhost:8080/"
    },
    "id": "5utbH9u1_adf",
    "outputId": "953789a8-39e9-46a6-f6e3-3ae86417a6fd"
   },
   "outputs": [
    {
     "name": "stdout",
     "output_type": "stream",
     "text": [
      "         Latitude  Longitude   lat_rad   lon_rad         X         Y         Z\n",
      "Decade                                                                        \n",
      "1900    40.480357 -79.546863  0.706516 -1.388355  0.136338 -0.742877  0.649048\n",
      "1920    40.635912 -79.751781  0.709230 -1.391931  0.133634 -0.741790  0.651082\n",
      "1940    40.635912 -79.751781  0.709230 -1.391931  0.133634 -0.741790  0.651082\n",
      "1960    40.064213 -86.971987  0.699252 -1.517948  0.038300 -0.740331  0.643188\n",
      "1980    39.338697 -91.991654  0.686590 -1.605557 -0.028153 -0.737364  0.631988\n",
      "2000    38.485363 -92.402903  0.671696 -1.612735 -0.032835 -0.747164  0.619978\n",
      "2010    38.179712 -92.490617  0.666362 -1.614266 -0.033013 -0.750535  0.615800\n"
     ]
    }
   ],
   "source": [
    "geogMean = df.groupby(['Decade']).mean()\n",
    "print(geogMean)"
   ]
  },
  {
   "cell_type": "markdown",
   "metadata": {
    "id": "ndnNwA1eh8lD"
   },
   "source": [
    "Holy Cow - that was slick. But it looks like `Decade` is not a column name, and is instead an index. (This caused me a lot of suffering while developing this lab!)\n",
    "\n",
    "> Let's redo our work, but clean up our dataset."
   ]
  },
  {
   "cell_type": "code",
   "execution_count": 23,
   "metadata": {
    "colab": {
     "base_uri": "https://localhost:8080/"
    },
    "id": "EeGVoy-fCD--",
    "outputId": "92352dcf-4e51-47c8-b687-baeba100fbee"
   },
   "outputs": [
    {
     "name": "stdout",
     "output_type": "stream",
     "text": [
      "   Decade   Latitude  Longitude   lat_rad   lon_rad         X         Y  \\\n",
      "0    1900  40.480357 -79.546863  0.706516 -1.388355  0.136338 -0.742877   \n",
      "1    1920  40.635912 -79.751781  0.709230 -1.391931  0.133634 -0.741790   \n",
      "2    1940  40.635912 -79.751781  0.709230 -1.391931  0.133634 -0.741790   \n",
      "3    1960  40.064213 -86.971987  0.699252 -1.517948  0.038300 -0.740331   \n",
      "4    1980  39.338697 -91.991654  0.686590 -1.605557 -0.028153 -0.737364   \n",
      "5    2000  38.485363 -92.402903  0.671696 -1.612735 -0.032835 -0.747164   \n",
      "6    2010  38.179712 -92.490617  0.666362 -1.614266 -0.033013 -0.750535   \n",
      "\n",
      "          Z  \n",
      "0  0.649048  \n",
      "1  0.651082  \n",
      "2  0.651082  \n",
      "3  0.643188  \n",
      "4  0.631988  \n",
      "5  0.619978  \n",
      "6  0.615800  \n"
     ]
    }
   ],
   "source": [
    "geogMean = df.groupby(['Decade'],as_index=False).mean() # Don't make decade an Index! Instead it should be a column name.\n",
    "print(geogMean)\n"
   ]
  },
  {
   "cell_type": "code",
   "execution_count": 24,
   "metadata": {
    "colab": {
     "base_uri": "https://localhost:8080/"
    },
    "id": "UX3FMfHkm2Mo",
    "outputId": "b7505856-f75a-4b33-d0b9-a4c1cd91b2db"
   },
   "outputs": [
    {
     "data": {
      "text/plain": [
       "<bound method NDFrame.head of      Decade        Team   State  Latitude  Longitude   lat_rad   lon_rad  \\\n",
       "0      1900      Boston      MA  42.35866   -71.0567  0.739298 -1.240173   \n",
       "1      1900    Brooklyn      NY  40.69245   -73.9904  0.710217 -1.291376   \n",
       "2      1900     Chicago      IL  41.88425   -87.6324  0.731018 -1.529474   \n",
       "3      1900  Cincinnati      OH  39.10713   -84.5041  0.682548 -1.474875   \n",
       "4      1900    New York      NY  40.78200   -73.8317  0.711780 -1.288606   \n",
       "..      ...         ...     ...       ...        ...       ...       ...   \n",
       "137    2010   St. Louis      MO  38.62775   -90.1996  0.674181 -1.574280   \n",
       "138    2010   Tampa Bay      FL  27.58300   -82.6330  0.481414 -1.442218   \n",
       "139    2010       Tempe      AZ  33.42551  -111.9370  0.583385 -1.953669   \n",
       "140    2010     Toronto  Canada  43.65740   -79.4328  0.761965 -1.386364   \n",
       "141    2010  Washington      DC  38.89037   -77.0320  0.678765 -1.344462   \n",
       "\n",
       "            X         Y         Z  \n",
       "0    0.239884 -0.698921  0.673769  \n",
       "1    0.209116 -0.728813  0.651998  \n",
       "2    0.030756 -0.743860  0.667628  \n",
       "3    0.074318 -0.772401  0.630772  \n",
       "4    0.210850 -0.727251  0.653183  \n",
       "..        ...       ...       ...  \n",
       "137 -0.002722 -0.781213  0.624258  \n",
       "138  0.113651 -0.879024  0.463033  \n",
       "139 -0.311797 -0.774173  0.550852  \n",
       "140  0.132678 -0.711211  0.690345  \n",
       "141  0.174667 -0.758497  0.627832  \n",
       "\n",
       "[142 rows x 10 columns]>"
      ]
     },
     "execution_count": 24,
     "metadata": {},
     "output_type": "execute_result"
    }
   ],
   "source": [
    "df.head"
   ]
  },
  {
   "cell_type": "markdown",
   "metadata": {
    "id": "9W9BXod-jPe6"
   },
   "source": [
    "## Questions\n",
    "3. What is the mean x,y, and z coordinate for 2010?\n",
    " The XY coordinate for 2010 is: 38.179712 -92.490617\n"
   ]
  },
  {
   "cell_type": "markdown",
   "metadata": {
    "id": "yDrAPjV7ejd6"
   },
   "source": []
  },
  {
   "cell_type": "markdown",
   "metadata": {
    "id": "JBl1fTDVAY97"
   },
   "source": [
    "# Converting back to lat and long\n",
    "\n",
    "As we discussed in class lat and lon are great for mapping things on a flat map, but do not do so well with measuring distances on a sphere. \n",
    "\n",
    "To display our mean centers on a webmap we have to take our x,y, and z measuremtns and return them to Lat and Long\n",
    "\n",
    "Convert lat and lon to degrees from radians.\n",
    "\n",
    "```\n",
    "meanLat = meanLat * 180/PI\n",
    "meanLon = meanLon * 180/PI\n",
    "```\n",
    "\n",
    "Convert average x, y, z coordinate to latitude and longitude. \n",
    "\n",
    "```\n",
    "meanLon = arctan2(y, x)\n",
    "Hyp = sqrt(x * x + y * y)\n",
    "meanLat = arctan2(z, hyp)\n",
    "```\n",
    "\n",
    "\n",
    "\n"
   ]
  },
  {
   "cell_type": "code",
   "execution_count": null,
   "metadata": {
    "id": "jaEXFwyqlZfJ"
   },
   "outputs": [],
   "source": [
    "## df[\"lat_rad\"] = df[\"Latitude\"] * PI/180"
   ]
  },
  {
   "cell_type": "code",
   "execution_count": 25,
   "metadata": {
    "colab": {
     "base_uri": "https://localhost:8080/"
    },
    "id": "hhJoceWZgfdE",
    "outputId": "33bfe116-64d0-4525-9c62-0aa23d082291"
   },
   "outputs": [
    {
     "name": "stdout",
     "output_type": "stream",
     "text": [
      "   Decade   Latitude  Longitude   lat_rad   lon_rad         X         Y  \\\n",
      "0    1900  40.480357 -79.546863  0.706516 -1.388355  0.136338 -0.742877   \n",
      "1    1920  40.635912 -79.751781  0.709230 -1.391931  0.133634 -0.741790   \n",
      "2    1940  40.635912 -79.751781  0.709230 -1.391931  0.133634 -0.741790   \n",
      "3    1960  40.064213 -86.971987  0.699252 -1.517948  0.038300 -0.740331   \n",
      "4    1980  39.338697 -91.991654  0.686590 -1.605557 -0.028153 -0.737364   \n",
      "5    2000  38.485363 -92.402903  0.671696 -1.612735 -0.032835 -0.747164   \n",
      "6    2010  38.179712 -92.490617  0.666362 -1.614266 -0.033013 -0.750535   \n",
      "\n",
      "          Z    meanLon    meanLat  \n",
      "0  0.649048 -79.600404  40.673906  \n",
      "1  0.651082 -79.787631  40.820851  \n",
      "2  0.651082 -79.787631  40.820851  \n",
      "3  0.643188 -87.038508  40.945700  \n",
      "4  0.631988 -92.186529  40.578961  \n",
      "5  0.619978 -92.516315  39.657896  \n",
      "6  0.615800 -92.518601  39.341093  \n"
     ]
    }
   ],
   "source": [
    "geogMean[\"meanLon\"] = (np.arctan2(geogMean.Y, geogMean.X)) * (180/PI)\n",
    "Hyp = np.sqrt(geogMean.X * geogMean.X + geogMean.Y * geogMean.Y)\n",
    "geogMean[\"meanLat\"] = (np.arctan2(geogMean.Z, Hyp)) * (180/PI)\n",
    "print(geogMean)"
   ]
  },
  {
   "cell_type": "code",
   "execution_count": 26,
   "metadata": {
    "colab": {
     "base_uri": "https://localhost:8080/"
    },
    "id": "PdUSVD0WBJCm",
    "outputId": "d5afd439-a841-4aed-837f-744b7e8542c8"
   },
   "outputs": [
    {
     "name": "stdout",
     "output_type": "stream",
     "text": [
      "   Decade    meanLon    meanLat\n",
      "0    1900 -79.600404  40.673906\n",
      "1    1920 -79.787631  40.820851\n",
      "2    1940 -79.787631  40.820851\n",
      "3    1960 -87.038508  40.945700\n",
      "4    1980 -92.186529  40.578961\n",
      "5    2000 -92.516315  39.657896\n",
      "6    2010 -92.518601  39.341093\n"
     ]
    }
   ],
   "source": [
    "#Create a column for the mean latitude and mean longitude in our geogMean dataframe here\n",
    "geogClean = geogMean[['Decade', 'meanLon', 'meanLat']]\n",
    "print(geogClean)\n",
    "\n",
    "#HINT: you may need to make an additioanl column to calculate mean lattitude"
   ]
  },
  {
   "cell_type": "markdown",
   "metadata": {
    "id": "BAJev9gmSuWg"
   },
   "source": [
    "Now lets clean up our dataset. We only care about the Mean Latitude, Mean Longitude, and Decade columns. Drop the other columns from the geogMean dataframe"
   ]
  },
  {
   "cell_type": "code",
   "execution_count": null,
   "metadata": {
    "id": "ZQYA43rreNkd"
   },
   "outputs": [],
   "source": []
  },
  {
   "cell_type": "code",
   "execution_count": 27,
   "metadata": {
    "colab": {
     "base_uri": "https://localhost:8080/"
    },
    "id": "hSRoV-qmbD3I",
    "outputId": "d4e4b7db-d307-4e3a-cd09-f551b33c0843"
   },
   "outputs": [
    {
     "name": "stderr",
     "output_type": "stream",
     "text": [
      "/var/folders/1h/qds9mkm123b7fhmghg50vg6w62xq56/T/ipykernel_53036/233812987.py:1: SettingWithCopyWarning: \n",
      "A value is trying to be set on a copy of a slice from a DataFrame.\n",
      "Try using .loc[row_indexer,col_indexer] = value instead\n",
      "\n",
      "See the caveats in the documentation: https://pandas.pydata.org/pandas-docs/stable/user_guide/indexing.html#returning-a-view-versus-a-copy\n",
      "  geogClean['Decade'] = geogClean['Decade'].apply(str) #Confirms that the decade variable a string\n"
     ]
    }
   ],
   "source": [
    "geogClean['Decade'] = geogClean['Decade'].apply(str) #Confirms that the decade variable a string"
   ]
  },
  {
   "cell_type": "markdown",
   "metadata": {
    "id": "Wg2YIy7GEUVE"
   },
   "source": [
    "Now let's map out these data using [Folium](/https://python-visualization.github.io/folium/quickstart.html#Vincent/Vega-and-Altair/VegaLite-Markers)."
   ]
  },
  {
   "cell_type": "code",
   "execution_count": 44,
   "metadata": {
    "colab": {
     "base_uri": "https://localhost:8080/",
     "height": 807
    },
    "id": "L8airCk5Dquz",
    "outputId": "6ff8a000-2d0b-4941-bd00-a94873527c07"
   },
   "outputs": [
    {
     "data": {
      "text/html": [
       "<div style=\"width:100%;\"><div style=\"position:relative;width:100%;height:0;padding-bottom:60%;\"><span style=\"color:#565656\">Make this Notebook Trusted to load map: File -> Trust Notebook</span><iframe srcdoc=\"&lt;!DOCTYPE html&gt;\n",
       "&lt;head&gt;    \n",
       "    &lt;meta http-equiv=&quot;content-type&quot; content=&quot;text/html; charset=UTF-8&quot; /&gt;\n",
       "    \n",
       "        &lt;script&gt;\n",
       "            L_NO_TOUCH = false;\n",
       "            L_DISABLE_3D = false;\n",
       "        &lt;/script&gt;\n",
       "    \n",
       "    &lt;style&gt;html, body {width: 100%;height: 100%;margin: 0;padding: 0;}&lt;/style&gt;\n",
       "    &lt;style&gt;#map {position:absolute;top:0;bottom:0;right:0;left:0;}&lt;/style&gt;\n",
       "    &lt;script src=&quot;https://cdn.jsdelivr.net/npm/leaflet@1.6.0/dist/leaflet.js&quot;&gt;&lt;/script&gt;\n",
       "    &lt;script src=&quot;https://code.jquery.com/jquery-1.12.4.min.js&quot;&gt;&lt;/script&gt;\n",
       "    &lt;script src=&quot;https://maxcdn.bootstrapcdn.com/bootstrap/3.2.0/js/bootstrap.min.js&quot;&gt;&lt;/script&gt;\n",
       "    &lt;script src=&quot;https://cdnjs.cloudflare.com/ajax/libs/Leaflet.awesome-markers/2.0.2/leaflet.awesome-markers.js&quot;&gt;&lt;/script&gt;\n",
       "    &lt;link rel=&quot;stylesheet&quot; href=&quot;https://cdn.jsdelivr.net/npm/leaflet@1.6.0/dist/leaflet.css&quot;/&gt;\n",
       "    &lt;link rel=&quot;stylesheet&quot; href=&quot;https://maxcdn.bootstrapcdn.com/bootstrap/3.2.0/css/bootstrap.min.css&quot;/&gt;\n",
       "    &lt;link rel=&quot;stylesheet&quot; href=&quot;https://maxcdn.bootstrapcdn.com/bootstrap/3.2.0/css/bootstrap-theme.min.css&quot;/&gt;\n",
       "    &lt;link rel=&quot;stylesheet&quot; href=&quot;https://maxcdn.bootstrapcdn.com/font-awesome/4.6.3/css/font-awesome.min.css&quot;/&gt;\n",
       "    &lt;link rel=&quot;stylesheet&quot; href=&quot;https://cdnjs.cloudflare.com/ajax/libs/Leaflet.awesome-markers/2.0.2/leaflet.awesome-markers.css&quot;/&gt;\n",
       "    &lt;link rel=&quot;stylesheet&quot; href=&quot;https://cdn.jsdelivr.net/gh/python-visualization/folium/folium/templates/leaflet.awesome.rotate.min.css&quot;/&gt;\n",
       "    \n",
       "            &lt;meta name=&quot;viewport&quot; content=&quot;width=device-width,\n",
       "                initial-scale=1.0, maximum-scale=1.0, user-scalable=no&quot; /&gt;\n",
       "            &lt;style&gt;\n",
       "                #map_465dbd567aa14feb821c6c87fbcff3ed {\n",
       "                    position: relative;\n",
       "                    width: 100.0%;\n",
       "                    height: 100.0%;\n",
       "                    left: 0.0%;\n",
       "                    top: 0.0%;\n",
       "                }\n",
       "            &lt;/style&gt;\n",
       "        \n",
       "&lt;/head&gt;\n",
       "&lt;body&gt;    \n",
       "    \n",
       "            &lt;div class=&quot;folium-map&quot; id=&quot;map_465dbd567aa14feb821c6c87fbcff3ed&quot; &gt;&lt;/div&gt;\n",
       "        \n",
       "&lt;/body&gt;\n",
       "&lt;script&gt;    \n",
       "    \n",
       "            var map_465dbd567aa14feb821c6c87fbcff3ed = L.map(\n",
       "                &quot;map_465dbd567aa14feb821c6c87fbcff3ed&quot;,\n",
       "                {\n",
       "                    center: [40.57861, -85.186529],\n",
       "                    crs: L.CRS.EPSG3857,\n",
       "                    zoom: 6,\n",
       "                    zoomControl: true,\n",
       "                    preferCanvas: true,\n",
       "                }\n",
       "            );\n",
       "\n",
       "            \n",
       "\n",
       "        \n",
       "    \n",
       "            var tile_layer_340a67093da2f8dbd8a7dff3e8633752 = L.tileLayer(\n",
       "                &quot;https://stamen-tiles-{s}.a.ssl.fastly.net/toner/{z}/{x}/{y}.png&quot;,\n",
       "                {&quot;attribution&quot;: &quot;Map tiles by \\u003ca href=\\&quot;http://stamen.com\\&quot;\\u003eStamen Design\\u003c/a\\u003e, under \\u003ca href=\\&quot;http://creativecommons.org/licenses/by/3.0\\&quot;\\u003eCC BY 3.0\\u003c/a\\u003e. Data by \\u0026copy; \\u003ca href=\\&quot;http://openstreetmap.org\\&quot;\\u003eOpenStreetMap\\u003c/a\\u003e, under \\u003ca href=\\&quot;http://www.openstreetmap.org/copyright\\&quot;\\u003eODbL\\u003c/a\\u003e.&quot;, &quot;detectRetina&quot;: false, &quot;maxNativeZoom&quot;: 18, &quot;maxZoom&quot;: 18, &quot;minZoom&quot;: 0, &quot;noWrap&quot;: false, &quot;opacity&quot;: 1, &quot;subdomains&quot;: &quot;abc&quot;, &quot;tms&quot;: false}\n",
       "            ).addTo(map_465dbd567aa14feb821c6c87fbcff3ed);\n",
       "        \n",
       "    \n",
       "            var marker_fe0c50c2ee9fbd40881c81838d84b4e1 = L.marker(\n",
       "                [40.67390622138284, -79.60040436116816],\n",
       "                {}\n",
       "            ).addTo(map_465dbd567aa14feb821c6c87fbcff3ed);\n",
       "        \n",
       "    \n",
       "            var div_icon_7a15a8ab4c3eeaa116d0c8d627ca5878 = L.divIcon({&quot;className&quot;: &quot;empty&quot;, &quot;html&quot;: &quot;\\u003cdiv style=\\&quot;font-family: courier new; color: blue\\&quot;\\u003e1900\\u003c/div\\u003e&quot;});\n",
       "            marker_fe0c50c2ee9fbd40881c81838d84b4e1.setIcon(div_icon_7a15a8ab4c3eeaa116d0c8d627ca5878);\n",
       "        \n",
       "    \n",
       "            var marker_443a13796750a7b7b22ada07ca25b303 = L.marker(\n",
       "                [40.82085135267478, -79.78763081943933],\n",
       "                {}\n",
       "            ).addTo(map_465dbd567aa14feb821c6c87fbcff3ed);\n",
       "        \n",
       "    \n",
       "            var div_icon_51a856d8f2dec22eb73598f13c58f691 = L.divIcon({&quot;className&quot;: &quot;empty&quot;, &quot;html&quot;: &quot;\\u003cdiv style=\\&quot;font-family: courier new; color: blue\\&quot;\\u003e1920\\u003c/div\\u003e&quot;});\n",
       "            marker_443a13796750a7b7b22ada07ca25b303.setIcon(div_icon_51a856d8f2dec22eb73598f13c58f691);\n",
       "        \n",
       "    \n",
       "            var marker_2b6e59d2dcef0ef416ebb846f1a73279 = L.marker(\n",
       "                [40.82085135267478, -79.78763081943933],\n",
       "                {}\n",
       "            ).addTo(map_465dbd567aa14feb821c6c87fbcff3ed);\n",
       "        \n",
       "    \n",
       "            var div_icon_74c65206dab4975959e84c6cb9846b0f = L.divIcon({&quot;className&quot;: &quot;empty&quot;, &quot;html&quot;: &quot;\\u003cdiv style=\\&quot;font-family: courier new; color: blue\\&quot;\\u003e1940\\u003c/div\\u003e&quot;});\n",
       "            marker_2b6e59d2dcef0ef416ebb846f1a73279.setIcon(div_icon_74c65206dab4975959e84c6cb9846b0f);\n",
       "        \n",
       "    \n",
       "            var marker_c5b9eb6b175b3a2924b0ae63213f9336 = L.marker(\n",
       "                [40.945700022986344, -87.03850792566377],\n",
       "                {}\n",
       "            ).addTo(map_465dbd567aa14feb821c6c87fbcff3ed);\n",
       "        \n",
       "    \n",
       "            var div_icon_42bc80839666d33bcd0d7c09070381c3 = L.divIcon({&quot;className&quot;: &quot;empty&quot;, &quot;html&quot;: &quot;\\u003cdiv style=\\&quot;font-family: courier new; color: blue\\&quot;\\u003e1960\\u003c/div\\u003e&quot;});\n",
       "            marker_c5b9eb6b175b3a2924b0ae63213f9336.setIcon(div_icon_42bc80839666d33bcd0d7c09070381c3);\n",
       "        \n",
       "    \n",
       "            var marker_dbb585938f39626b1609bc7a898d47e2 = L.marker(\n",
       "                [40.57896113804568, -92.18652894272286],\n",
       "                {}\n",
       "            ).addTo(map_465dbd567aa14feb821c6c87fbcff3ed);\n",
       "        \n",
       "    \n",
       "            var div_icon_fdf5ceea740036a3b53c68f600243904 = L.divIcon({&quot;className&quot;: &quot;empty&quot;, &quot;html&quot;: &quot;\\u003cdiv style=\\&quot;font-family: courier new; color: blue\\&quot;\\u003e1980\\u003c/div\\u003e&quot;});\n",
       "            marker_dbb585938f39626b1609bc7a898d47e2.setIcon(div_icon_fdf5ceea740036a3b53c68f600243904);\n",
       "        \n",
       "    \n",
       "            var marker_7369801029d9428bec25da35b8475632 = L.marker(\n",
       "                [39.657896251438245, -92.51631486115208],\n",
       "                {}\n",
       "            ).addTo(map_465dbd567aa14feb821c6c87fbcff3ed);\n",
       "        \n",
       "    \n",
       "            var div_icon_3a8b0d74a26538d7a6329d6bfc98c1ba = L.divIcon({&quot;className&quot;: &quot;empty&quot;, &quot;html&quot;: &quot;\\u003cdiv style=\\&quot;font-family: courier new; color: blue\\&quot;\\u003e2000\\u003c/div\\u003e&quot;});\n",
       "            marker_7369801029d9428bec25da35b8475632.setIcon(div_icon_3a8b0d74a26538d7a6329d6bfc98c1ba);\n",
       "        \n",
       "    \n",
       "            var marker_a3deb87edc2fcf5ede3853b484962d2c = L.marker(\n",
       "                [39.34109347900521, -92.51860092335387],\n",
       "                {}\n",
       "            ).addTo(map_465dbd567aa14feb821c6c87fbcff3ed);\n",
       "        \n",
       "    \n",
       "            var div_icon_a7f33fe55b2fab20dbf52a62381bbef6 = L.divIcon({&quot;className&quot;: &quot;empty&quot;, &quot;html&quot;: &quot;\\u003cdiv style=\\&quot;font-family: courier new; color: blue\\&quot;\\u003e2010\\u003c/div\\u003e&quot;});\n",
       "            marker_a3deb87edc2fcf5ede3853b484962d2c.setIcon(div_icon_a7f33fe55b2fab20dbf52a62381bbef6);\n",
       "        \n",
       "&lt;/script&gt;\" style=\"position:absolute;width:100%;height:100%;left:0;top:0;border:none !important;\" allowfullscreen webkitallowfullscreen mozallowfullscreen></iframe></div></div>"
      ],
      "text/plain": [
       "<folium.folium.Map at 0x166211750>"
      ]
     },
     "execution_count": 44,
     "metadata": {},
     "output_type": "execute_result"
    }
   ],
   "source": [
    "#Create a webmap here that displays the mean centers of MLB teams over time. \n",
    "#create a map\n",
    "\n",
    "m = folium.Map(prefer_canvas=True, location=[40.57861,-85.186529],\n",
    "zoom_start=6, tiles=\"Stamen Toner\")\n",
    "\n",
    "for i in range (0,len(geogClean)):\n",
    "  folium.Marker(\n",
    "      location = [geogClean.iloc[i]['meanLat'],geogClean.iloc[i]['meanLon']], \n",
    "      # popup=geogClean.iloc[i]['Decade'],\n",
    "      icon=folium.DivIcon(html=f\"\"\"<div style=\"font-family: courier new; color: blue\">{geogClean.iloc[i]['Decade']}</div>\"\"\")\n",
    "                \n",
    "  ).add_to(m)\n",
    "\n",
    "m\n"
   ]
  },
  {
   "cell_type": "markdown",
   "metadata": {
    "id": "12x1bgTBj3qx"
   },
   "source": [
    "## Questions\n",
    "4. Our map shows an unweighted spatial **Mean** of professional baseball teams over time. What do you think might change if we graphed the spatial **Median** of the teams? Why?\n",
    "\n",
    "I think if we mapped the Median of the teams over time, it would likely shift towards the highest concentrations of teams per area, which is likely on the East Coast, trending in the same direction as the population map we looked at on Monday. This is because calculating the spatial Median minimizes the distance to every other point and will be less affected by outliers.\n",
    "\n",
    "5. Liam is a huge baseball fan. According to our map, where should he move to be as close to as many professional teams as possible? \n",
    "\n",
    "Liam should move to Moberly Missouri. Maybe, Kansas City or Springfield. Because if the trends we have seen over the last hundred years continue to be true we can expect the mean center to move south, and to the west.\n",
    "\n",
    "6. Liam wants to minimize his travel time to see as many games as possible. Do you think he should decide where to move using the spatial mean of the teams or the spatial median? Why?\n",
    "\n",
    "I think he should decide where to move based on the spatial median. This is because it takes into account the shortest euclidian distance between all other teams. Where the median is just the central point of the sum of all teams."
   ]
  }
 ],
 "metadata": {
  "colab": {
   "collapsed_sections": [],
   "provenance": []
  },
  "kernelspec": {
   "display_name": "Python 3 (ipykernel)",
   "language": "python",
   "name": "python3"
  },
  "language_info": {
   "codemirror_mode": {
    "name": "ipython",
    "version": 3
   },
   "file_extension": ".py",
   "mimetype": "text/x-python",
   "name": "python",
   "nbconvert_exporter": "python",
   "pygments_lexer": "ipython3",
   "version": "3.10.5"
  }
 },
 "nbformat": 4,
 "nbformat_minor": 4
}
