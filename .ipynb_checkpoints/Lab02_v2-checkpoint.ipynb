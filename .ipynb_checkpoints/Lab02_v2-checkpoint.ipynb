{
 "cells": [
  {
   "cell_type": "markdown",
   "metadata": {
    "id": "M-1nlKYDdtv6"
   },
   "source": [
    "# Lab02 - Data manipulation, geostatistical analysis, and mapping\n",
    "\n",
    "Learning goals\n",
    "\n",
    "- develop skills in importing and modifying data using python.\n",
    "- perform geographic statistical operations and transformations using python\n",
    "- devlop skill in new and innovative means of mapping\n",
    "\n",
    "---\n",
    "\n",
    "This lab will look at an incredibly esoteric dataset and question. How has the geographic center of baseball teams shifted since 1900.\n",
    "\n",
    "*Disclaimer* - I do not really even like baseball, but it is a cool dataset and also tells us a bit about how we have shifted geographically as a society.\n",
    "\n",
    "*Disclaimer* - Liam really likes baseball, go Cubs\n",
    "\n"
   ]
  },
  {
   "cell_type": "code",
   "execution_count": 2,
   "metadata": {
    "id": "MIHzFJuT0vDD"
   },
   "outputs": [],
   "source": [
    "# First lets import the packages we will need. Always put these up front!\n",
    "import pandas as pd\n",
    "import numpy as np\n",
    "import math\n",
    "import folium #Folium is a library that allows us to create webmaps\n",
    "import os"
   ]
  },
  {
   "cell_type": "code",
   "execution_count": 4,
   "metadata": {},
   "outputs": [],
   "source": [
    "# Change your computer's directory to where you have saved the baseball .csv file\n",
    "os.chdir(\"/Users/f67f911/Desktop/GPHY504_Lab/\")"
   ]
  },
  {
   "cell_type": "code",
   "execution_count": 5,
   "metadata": {
    "id": "afg7hivE15wS"
   },
   "outputs": [
    {
     "name": "stdout",
     "output_type": "stream",
     "text": [
      "<bound method NDFrame.head of      Decade        Team   State  Latitude  Longitude\n",
      "0      1900      Boston      MA  42.35866   -71.0567\n",
      "1      1900    Brooklyn      NY  40.69245   -73.9904\n",
      "2      1900     Chicago      IL  41.88425   -87.6324\n",
      "3      1900  Cincinnati      OH  39.10713   -84.5041\n",
      "4      1900    New York      NY  40.78200   -73.8317\n",
      "..      ...         ...     ...       ...        ...\n",
      "137    2010   St. Louis      MO  38.62775   -90.1996\n",
      "138    2010   Tampa Bay      FL  27.58300   -82.6330\n",
      "139    2010       Tempe      AZ  33.42551  -111.9370\n",
      "140    2010     Toronto  Canada  43.65740   -79.4328\n",
      "141    2010  Washington      DC  38.89037   -77.0320\n",
      "\n",
      "[142 rows x 5 columns]>\n",
      "Decade         int64\n",
      "Team          object\n",
      "State         object\n",
      "Latitude     float64\n",
      "Longitude    float64\n",
      "dtype: object\n"
     ]
    }
   ],
   "source": [
    "# read in the csv file and look at it\n",
    "# Since you have changed your directory, this should automatically be read in\n",
    "df = pd.read_csv('Baseball_Decades.csv')\n",
    "print(df.head)\n",
    "print(df.dtypes)"
   ]
  },
  {
   "cell_type": "markdown",
   "metadata": {
    "id": "I48T51vYfxe9"
   },
   "source": [
    "It is important to look at the data types and understand the data, this will potentially mess you up later on. "
   ]
  },
  {
   "cell_type": "markdown",
   "metadata": {
    "id": "Hp1c316c3o6J"
   },
   "source": [
    "### Indexing\n",
    "\n",
    "[Indexing](https://pandas.pydata.org/pandas-docs/stable/user_guide/indexing.html) on a pandas DataFrame allows you to subset or filter the data based upon a condition(s) that you provide.\n",
    "\n",
    "A couple new concepts: To access all rows of one or more columns, we can simply specify the column names in brackets. Note that the printout doesn't print all of our values, but tells us the total length of the column and also tells us the data type of all elements of the column. Since each pandas DataFrame column is a NumPy array, all values in a column have the same data type."
   ]
  },
  {
   "cell_type": "code",
   "execution_count": 6,
   "metadata": {
    "id": "mKc3gZoQ3qlX"
   },
   "outputs": [
    {
     "name": "stdout",
     "output_type": "stream",
     "text": [
      "0          Boston\n",
      "1        Brooklyn\n",
      "2         Chicago\n",
      "3      Cincinnati\n",
      "4        New York\n",
      "          ...    \n",
      "137     St. Louis\n",
      "138     Tampa Bay\n",
      "139         Tempe\n",
      "140       Toronto\n",
      "141    Washington\n",
      "Name: Team, Length: 142, dtype: object\n"
     ]
    }
   ],
   "source": [
    "print(df['Team']) # just print out the column of the cities that had a team"
   ]
  },
  {
   "cell_type": "markdown",
   "metadata": {
    "id": "LxNIhWVt4Psb"
   },
   "source": [
    "To access data by index labels, we must use the `.loc` attribute before the brackets. Recall from above that we currently have a `RangeIndex` with numbers that go from 0 to 141 with a step size of 1."
   ]
  },
  {
   "cell_type": "code",
   "execution_count": 8,
   "metadata": {
    "id": "cjaO9Tcp6J4Z"
   },
   "outputs": [
    {
     "data": {
      "text/plain": [
       "Decade           1900\n",
       "Team           Boston\n",
       "State              MA\n",
       "Latitude     42.35866\n",
       "Longitude    -71.0567\n",
       "Name: 0, dtype: object"
      ]
     },
     "execution_count": 8,
     "metadata": {},
     "output_type": "execute_result"
    }
   ],
   "source": [
    "df.loc[0] # just grab the first row"
   ]
  },
  {
   "cell_type": "code",
   "execution_count": 9,
   "metadata": {
    "id": "WVJcjE1V6V5W"
   },
   "outputs": [
    {
     "data": {
      "text/html": [
       "<div>\n",
       "<style scoped>\n",
       "    .dataframe tbody tr th:only-of-type {\n",
       "        vertical-align: middle;\n",
       "    }\n",
       "\n",
       "    .dataframe tbody tr th {\n",
       "        vertical-align: top;\n",
       "    }\n",
       "\n",
       "    .dataframe thead th {\n",
       "        text-align: right;\n",
       "    }\n",
       "</style>\n",
       "<table border=\"1\" class=\"dataframe\">\n",
       "  <thead>\n",
       "    <tr style=\"text-align: right;\">\n",
       "      <th></th>\n",
       "      <th>Decade</th>\n",
       "      <th>Team</th>\n",
       "      <th>State</th>\n",
       "      <th>Latitude</th>\n",
       "      <th>Longitude</th>\n",
       "    </tr>\n",
       "  </thead>\n",
       "  <tbody>\n",
       "    <tr>\n",
       "      <th>10</th>\n",
       "      <td>1920</td>\n",
       "      <td>Brooklyn</td>\n",
       "      <td>NY</td>\n",
       "      <td>40.69245</td>\n",
       "      <td>-73.9904</td>\n",
       "    </tr>\n",
       "    <tr>\n",
       "      <th>11</th>\n",
       "      <td>1920</td>\n",
       "      <td>Chicago</td>\n",
       "      <td>IL</td>\n",
       "      <td>41.88425</td>\n",
       "      <td>-87.6324</td>\n",
       "    </tr>\n",
       "    <tr>\n",
       "      <th>12</th>\n",
       "      <td>1920</td>\n",
       "      <td>Chicago</td>\n",
       "      <td>IL</td>\n",
       "      <td>41.88425</td>\n",
       "      <td>-87.6324</td>\n",
       "    </tr>\n",
       "    <tr>\n",
       "      <th>13</th>\n",
       "      <td>1920</td>\n",
       "      <td>Cincinnati</td>\n",
       "      <td>OH</td>\n",
       "      <td>39.10713</td>\n",
       "      <td>-84.5041</td>\n",
       "    </tr>\n",
       "    <tr>\n",
       "      <th>14</th>\n",
       "      <td>1920</td>\n",
       "      <td>Cleveland</td>\n",
       "      <td>OH</td>\n",
       "      <td>41.50475</td>\n",
       "      <td>-81.6907</td>\n",
       "    </tr>\n",
       "    <tr>\n",
       "      <th>15</th>\n",
       "      <td>1920</td>\n",
       "      <td>Detroit</td>\n",
       "      <td>MI</td>\n",
       "      <td>42.33168</td>\n",
       "      <td>-83.0480</td>\n",
       "    </tr>\n",
       "    <tr>\n",
       "      <th>16</th>\n",
       "      <td>1920</td>\n",
       "      <td>New York</td>\n",
       "      <td>NY</td>\n",
       "      <td>40.78200</td>\n",
       "      <td>-73.8317</td>\n",
       "    </tr>\n",
       "    <tr>\n",
       "      <th>17</th>\n",
       "      <td>1920</td>\n",
       "      <td>New York</td>\n",
       "      <td>NY</td>\n",
       "      <td>40.78200</td>\n",
       "      <td>-73.8317</td>\n",
       "    </tr>\n",
       "    <tr>\n",
       "      <th>18</th>\n",
       "      <td>1920</td>\n",
       "      <td>Philadelphia</td>\n",
       "      <td>PA</td>\n",
       "      <td>39.95228</td>\n",
       "      <td>-75.1625</td>\n",
       "    </tr>\n",
       "    <tr>\n",
       "      <th>19</th>\n",
       "      <td>1920</td>\n",
       "      <td>Philadelphia</td>\n",
       "      <td>PA</td>\n",
       "      <td>39.95228</td>\n",
       "      <td>-75.1625</td>\n",
       "    </tr>\n",
       "    <tr>\n",
       "      <th>20</th>\n",
       "      <td>1920</td>\n",
       "      <td>Pittsburgh</td>\n",
       "      <td>PA</td>\n",
       "      <td>40.43834</td>\n",
       "      <td>-79.9975</td>\n",
       "    </tr>\n",
       "  </tbody>\n",
       "</table>\n",
       "</div>"
      ],
      "text/plain": [
       "    Decade          Team State  Latitude  Longitude\n",
       "10    1920      Brooklyn    NY  40.69245   -73.9904\n",
       "11    1920       Chicago    IL  41.88425   -87.6324\n",
       "12    1920       Chicago    IL  41.88425   -87.6324\n",
       "13    1920    Cincinnati    OH  39.10713   -84.5041\n",
       "14    1920     Cleveland    OH  41.50475   -81.6907\n",
       "15    1920       Detroit    MI  42.33168   -83.0480\n",
       "16    1920      New York    NY  40.78200   -73.8317\n",
       "17    1920      New York    NY  40.78200   -73.8317\n",
       "18    1920  Philadelphia    PA  39.95228   -75.1625\n",
       "19    1920  Philadelphia    PA  39.95228   -75.1625\n",
       "20    1920    Pittsburgh    PA  40.43834   -79.9975"
      ]
     },
     "execution_count": 9,
     "metadata": {},
     "output_type": "execute_result"
    }
   ],
   "source": [
    "df.loc[10:20] # grab rows 10 - 20"
   ]
  },
  {
   "cell_type": "code",
   "execution_count": 10,
   "metadata": {
    "id": "kdrSF9ho6fjX"
   },
   "outputs": [
    {
     "data": {
      "text/html": [
       "<div>\n",
       "<style scoped>\n",
       "    .dataframe tbody tr th:only-of-type {\n",
       "        vertical-align: middle;\n",
       "    }\n",
       "\n",
       "    .dataframe tbody tr th {\n",
       "        vertical-align: top;\n",
       "    }\n",
       "\n",
       "    .dataframe thead th {\n",
       "        text-align: right;\n",
       "    }\n",
       "</style>\n",
       "<table border=\"1\" class=\"dataframe\">\n",
       "  <thead>\n",
       "    <tr style=\"text-align: right;\">\n",
       "      <th></th>\n",
       "      <th>Team</th>\n",
       "      <th>Decade</th>\n",
       "    </tr>\n",
       "  </thead>\n",
       "  <tbody>\n",
       "    <tr>\n",
       "      <th>10</th>\n",
       "      <td>Brooklyn</td>\n",
       "      <td>1920</td>\n",
       "    </tr>\n",
       "    <tr>\n",
       "      <th>11</th>\n",
       "      <td>Chicago</td>\n",
       "      <td>1920</td>\n",
       "    </tr>\n",
       "    <tr>\n",
       "      <th>12</th>\n",
       "      <td>Chicago</td>\n",
       "      <td>1920</td>\n",
       "    </tr>\n",
       "    <tr>\n",
       "      <th>13</th>\n",
       "      <td>Cincinnati</td>\n",
       "      <td>1920</td>\n",
       "    </tr>\n",
       "    <tr>\n",
       "      <th>14</th>\n",
       "      <td>Cleveland</td>\n",
       "      <td>1920</td>\n",
       "    </tr>\n",
       "    <tr>\n",
       "      <th>15</th>\n",
       "      <td>Detroit</td>\n",
       "      <td>1920</td>\n",
       "    </tr>\n",
       "    <tr>\n",
       "      <th>16</th>\n",
       "      <td>New York</td>\n",
       "      <td>1920</td>\n",
       "    </tr>\n",
       "    <tr>\n",
       "      <th>17</th>\n",
       "      <td>New York</td>\n",
       "      <td>1920</td>\n",
       "    </tr>\n",
       "    <tr>\n",
       "      <th>18</th>\n",
       "      <td>Philadelphia</td>\n",
       "      <td>1920</td>\n",
       "    </tr>\n",
       "    <tr>\n",
       "      <th>19</th>\n",
       "      <td>Philadelphia</td>\n",
       "      <td>1920</td>\n",
       "    </tr>\n",
       "    <tr>\n",
       "      <th>20</th>\n",
       "      <td>Pittsburgh</td>\n",
       "      <td>1920</td>\n",
       "    </tr>\n",
       "  </tbody>\n",
       "</table>\n",
       "</div>"
      ],
      "text/plain": [
       "            Team  Decade\n",
       "10      Brooklyn    1920\n",
       "11       Chicago    1920\n",
       "12       Chicago    1920\n",
       "13    Cincinnati    1920\n",
       "14     Cleveland    1920\n",
       "15       Detroit    1920\n",
       "16      New York    1920\n",
       "17      New York    1920\n",
       "18  Philadelphia    1920\n",
       "19  Philadelphia    1920\n",
       "20    Pittsburgh    1920"
      ]
     },
     "execution_count": 10,
     "metadata": {},
     "output_type": "execute_result"
    }
   ],
   "source": [
    "df.loc[10:20, ['Team','Decade']] # grab rows 10 - 20, but just the team and decade columns. \n",
    "# Notice how the column order was switched."
   ]
  },
  {
   "cell_type": "markdown",
   "metadata": {
    "id": "5M6JPRPT6DYo"
   },
   "source": [
    "We can use conditional statements and boolean logic in combination with `.loc` as well. Instead of the English words `and` and `or` like we used in Lab 1 conditional statements, use `&` and `|` characters for bitwise comparisons in the `.loc` statements. Also note that multiple logical statements each need to be enclosed in their own parentheses:\n",
    "\n",
    "Lets find all of the data for 1960..."
   ]
  },
  {
   "cell_type": "code",
   "execution_count": 11,
   "metadata": {
    "id": "eol5AHka6CN-"
   },
   "outputs": [
    {
     "data": {
      "text/html": [
       "<div>\n",
       "<style scoped>\n",
       "    .dataframe tbody tr th:only-of-type {\n",
       "        vertical-align: middle;\n",
       "    }\n",
       "\n",
       "    .dataframe tbody tr th {\n",
       "        vertical-align: top;\n",
       "    }\n",
       "\n",
       "    .dataframe thead th {\n",
       "        text-align: right;\n",
       "    }\n",
       "</style>\n",
       "<table border=\"1\" class=\"dataframe\">\n",
       "  <thead>\n",
       "    <tr style=\"text-align: right;\">\n",
       "      <th></th>\n",
       "      <th>Decade</th>\n",
       "      <th>Team</th>\n",
       "      <th>State</th>\n",
       "      <th>Latitude</th>\n",
       "      <th>Longitude</th>\n",
       "    </tr>\n",
       "  </thead>\n",
       "  <tbody>\n",
       "    <tr>\n",
       "      <th>40</th>\n",
       "      <td>1960</td>\n",
       "      <td>Baltimore</td>\n",
       "      <td>MD</td>\n",
       "      <td>39.29058</td>\n",
       "      <td>-76.6093</td>\n",
       "    </tr>\n",
       "    <tr>\n",
       "      <th>41</th>\n",
       "      <td>1960</td>\n",
       "      <td>Boston</td>\n",
       "      <td>MA</td>\n",
       "      <td>42.35866</td>\n",
       "      <td>-71.0567</td>\n",
       "    </tr>\n",
       "    <tr>\n",
       "      <th>42</th>\n",
       "      <td>1960</td>\n",
       "      <td>Chicago</td>\n",
       "      <td>IL</td>\n",
       "      <td>41.88425</td>\n",
       "      <td>-87.6324</td>\n",
       "    </tr>\n",
       "    <tr>\n",
       "      <th>43</th>\n",
       "      <td>1960</td>\n",
       "      <td>Chicago</td>\n",
       "      <td>IL</td>\n",
       "      <td>41.88425</td>\n",
       "      <td>-87.6324</td>\n",
       "    </tr>\n",
       "    <tr>\n",
       "      <th>44</th>\n",
       "      <td>1960</td>\n",
       "      <td>Cincinnati</td>\n",
       "      <td>OH</td>\n",
       "      <td>39.10713</td>\n",
       "      <td>-84.5041</td>\n",
       "    </tr>\n",
       "    <tr>\n",
       "      <th>45</th>\n",
       "      <td>1960</td>\n",
       "      <td>Cleveland</td>\n",
       "      <td>OH</td>\n",
       "      <td>41.50475</td>\n",
       "      <td>-81.6907</td>\n",
       "    </tr>\n",
       "    <tr>\n",
       "      <th>46</th>\n",
       "      <td>1960</td>\n",
       "      <td>Detroit</td>\n",
       "      <td>MI</td>\n",
       "      <td>42.33168</td>\n",
       "      <td>-83.0480</td>\n",
       "    </tr>\n",
       "    <tr>\n",
       "      <th>47</th>\n",
       "      <td>1960</td>\n",
       "      <td>Kansas City</td>\n",
       "      <td>MO</td>\n",
       "      <td>39.10295</td>\n",
       "      <td>-94.5831</td>\n",
       "    </tr>\n",
       "    <tr>\n",
       "      <th>48</th>\n",
       "      <td>1960</td>\n",
       "      <td>Los Angeles</td>\n",
       "      <td>CA</td>\n",
       "      <td>34.05349</td>\n",
       "      <td>-118.2450</td>\n",
       "    </tr>\n",
       "    <tr>\n",
       "      <th>49</th>\n",
       "      <td>1960</td>\n",
       "      <td>Milwaukee</td>\n",
       "      <td>WI</td>\n",
       "      <td>43.04181</td>\n",
       "      <td>-87.9068</td>\n",
       "    </tr>\n",
       "    <tr>\n",
       "      <th>50</th>\n",
       "      <td>1960</td>\n",
       "      <td>New York</td>\n",
       "      <td>NY</td>\n",
       "      <td>40.78200</td>\n",
       "      <td>-73.8317</td>\n",
       "    </tr>\n",
       "    <tr>\n",
       "      <th>51</th>\n",
       "      <td>1960</td>\n",
       "      <td>Philadelphia</td>\n",
       "      <td>PA</td>\n",
       "      <td>39.95228</td>\n",
       "      <td>-75.1625</td>\n",
       "    </tr>\n",
       "    <tr>\n",
       "      <th>52</th>\n",
       "      <td>1960</td>\n",
       "      <td>Pittsburgh</td>\n",
       "      <td>PA</td>\n",
       "      <td>40.43834</td>\n",
       "      <td>-79.9975</td>\n",
       "    </tr>\n",
       "    <tr>\n",
       "      <th>53</th>\n",
       "      <td>1960</td>\n",
       "      <td>San Francisco</td>\n",
       "      <td>CA</td>\n",
       "      <td>37.77712</td>\n",
       "      <td>-122.4200</td>\n",
       "    </tr>\n",
       "    <tr>\n",
       "      <th>54</th>\n",
       "      <td>1960</td>\n",
       "      <td>St. Louis</td>\n",
       "      <td>MO</td>\n",
       "      <td>38.62775</td>\n",
       "      <td>-90.1996</td>\n",
       "    </tr>\n",
       "    <tr>\n",
       "      <th>55</th>\n",
       "      <td>1960</td>\n",
       "      <td>Washington</td>\n",
       "      <td>DC</td>\n",
       "      <td>38.89037</td>\n",
       "      <td>-77.0320</td>\n",
       "    </tr>\n",
       "  </tbody>\n",
       "</table>\n",
       "</div>"
      ],
      "text/plain": [
       "    Decade           Team State  Latitude  Longitude\n",
       "40    1960      Baltimore    MD  39.29058   -76.6093\n",
       "41    1960         Boston    MA  42.35866   -71.0567\n",
       "42    1960        Chicago    IL  41.88425   -87.6324\n",
       "43    1960        Chicago    IL  41.88425   -87.6324\n",
       "44    1960     Cincinnati    OH  39.10713   -84.5041\n",
       "45    1960      Cleveland    OH  41.50475   -81.6907\n",
       "46    1960        Detroit    MI  42.33168   -83.0480\n",
       "47    1960    Kansas City    MO  39.10295   -94.5831\n",
       "48    1960    Los Angeles    CA  34.05349  -118.2450\n",
       "49    1960      Milwaukee    WI  43.04181   -87.9068\n",
       "50    1960       New York    NY  40.78200   -73.8317\n",
       "51    1960   Philadelphia    PA  39.95228   -75.1625\n",
       "52    1960     Pittsburgh    PA  40.43834   -79.9975\n",
       "53    1960  San Francisco    CA  37.77712  -122.4200\n",
       "54    1960      St. Louis    MO  38.62775   -90.1996\n",
       "55    1960     Washington    DC  38.89037   -77.0320"
      ]
     },
     "execution_count": 11,
     "metadata": {},
     "output_type": "execute_result"
    }
   ],
   "source": [
    "teams_1960s = df.loc[df['Decade'] == 1960]\n",
    "teams_1960s"
   ]
  },
  {
   "cell_type": "markdown",
   "metadata": {
    "id": "tS9TLmy3gdD4"
   },
   "source": [
    "Let's just look at the teams in the 1960s that were in Ohio."
   ]
  },
  {
   "cell_type": "code",
   "execution_count": 12,
   "metadata": {
    "id": "w_gqOsMZ6YGG"
   },
   "outputs": [
    {
     "data": {
      "text/html": [
       "<div>\n",
       "<style scoped>\n",
       "    .dataframe tbody tr th:only-of-type {\n",
       "        vertical-align: middle;\n",
       "    }\n",
       "\n",
       "    .dataframe tbody tr th {\n",
       "        vertical-align: top;\n",
       "    }\n",
       "\n",
       "    .dataframe thead th {\n",
       "        text-align: right;\n",
       "    }\n",
       "</style>\n",
       "<table border=\"1\" class=\"dataframe\">\n",
       "  <thead>\n",
       "    <tr style=\"text-align: right;\">\n",
       "      <th></th>\n",
       "      <th>Decade</th>\n",
       "      <th>Team</th>\n",
       "      <th>State</th>\n",
       "      <th>Latitude</th>\n",
       "      <th>Longitude</th>\n",
       "    </tr>\n",
       "  </thead>\n",
       "  <tbody>\n",
       "    <tr>\n",
       "      <th>44</th>\n",
       "      <td>1960</td>\n",
       "      <td>Cincinnati</td>\n",
       "      <td>OH</td>\n",
       "      <td>39.10713</td>\n",
       "      <td>-84.5041</td>\n",
       "    </tr>\n",
       "    <tr>\n",
       "      <th>45</th>\n",
       "      <td>1960</td>\n",
       "      <td>Cleveland</td>\n",
       "      <td>OH</td>\n",
       "      <td>41.50475</td>\n",
       "      <td>-81.6907</td>\n",
       "    </tr>\n",
       "  </tbody>\n",
       "</table>\n",
       "</div>"
      ],
      "text/plain": [
       "    Decade        Team State  Latitude  Longitude\n",
       "44    1960  Cincinnati    OH  39.10713   -84.5041\n",
       "45    1960   Cleveland    OH  41.50475   -81.6907"
      ]
     },
     "execution_count": 12,
     "metadata": {},
     "output_type": "execute_result"
    }
   ],
   "source": [
    "# Combine a numerical value (Decade) with a text string (State)\n",
    "data_1960_OH = df.loc[(df['Decade'] == 1960) & df.State.str.contains('OH')]\n",
    "data_1960_OH"
   ]
  },
  {
   "cell_type": "markdown",
   "metadata": {
    "id": "o6BCYvl1Dxr9"
   },
   "source": [
    "One of the things to notice are the differences between the following two lines of code:\n",
    "\n",
    "```\n",
    "df.loc[df['Decade'] == 1960]\n",
    "```\n",
    "\n",
    "```\n",
    "teams_1960s = df.loc[df['Decade'] == 1960]\n",
    "```\n",
    "While both code blocks might look the same, the first code block simply displays the selection, like a filter in Excel. The second code block actually creates a new variable from the subset.\n",
    "\n",
    "## Questions\n",
    "1. What team is saved in the 75th row?\n",
    "2. How many baseball teams were in NY state in 1900? How many teams were in NY state in 2000?\n"
   ]
  },
  {
   "cell_type": "markdown",
   "metadata": {
    "id": "Ccjop_hdFRid"
   },
   "source": [
    "## Getting the Latitude and Longitude into a cartesian surface. \n",
    "\n",
    "While it is easier for us to visualize lat & lon, the reality is that it is good for a flat map, not something like a sphere. realities is that it is not great for measuring distance on something like a sphere. Because of the we need to convert the Latitude and Longitude column into radians and then into a Cartesian plane. This will give our locations a numeric values rather than and coordinate value.\n",
    "\n",
    "Convert Lat and Lon from degrees to radians using the general formulas.\n",
    "\n",
    "```\n",
    "lat_rad = lat * PI/180\n",
    "lon_rad = lon * PI/180\n",
    "```\n",
    "Now we need to get into a Cartesian space.\n",
    "\n",
    "```\n",
    "X = cos(lat_rad)*cos(lon_rad)\n",
    "Y = cos(lat_rad)*sin(lon_rad)\n",
    "Z = sin(lat_rad)\n",
    "```\n",
    "\n",
    "So now let's turn that into executable code. To see how that might work, you need to run the following code in a new code cell:\n",
    "\n",
    "\n",
    "\n",
    "```\n",
    "demo = pd.DataFrame({\"a\": [1, 2, 3], \"b\": [4, 5, 6]})\n",
    "demo[\"shiny_new_column\"] = df[\"a\"] * df[\"b\"]\n",
    "\n",
    "print(demo)\n",
    "```\n"
   ]
  },
  {
   "cell_type": "markdown",
   "metadata": {
    "id": "meG6IbOpLSmj"
   },
   "source": [
    "Now let's roll with this on our Baseball dataset. \n",
    "\n"
   ]
  },
  {
   "cell_type": "code",
   "execution_count": 13,
   "metadata": {
    "id": "0DKvgld9MIZH"
   },
   "outputs": [
    {
     "data": {
      "text/plain": [
       "3.141592653589793"
      ]
     },
     "execution_count": 13,
     "metadata": {},
     "output_type": "execute_result"
    }
   ],
   "source": [
    "PI = math.pi # set the PI variable using the math package for simplicity \n",
    "PI"
   ]
  },
  {
   "cell_type": "code",
   "execution_count": 17,
   "metadata": {
    "id": "JZJE-xQxNBwO"
   },
   "outputs": [],
   "source": [
    "# Finish this cell block for lon_rad\n",
    "df[\"lat_rad\"] = df[\"Latitude\"] * PI/180\n",
    "# You insert code for lon_rad here\n"
   ]
  },
  {
   "cell_type": "code",
   "execution_count": 32,
   "metadata": {},
   "outputs": [],
   "source": [
    "# Code needs to be deleted\n",
    "df[\"lon_rad\"] = df[\"Longitude\"] * PI/180"
   ]
  },
  {
   "cell_type": "markdown",
   "metadata": {
    "id": "ih_9Fl87OjNG"
   },
   "source": [
    "Now convert the X,Y,Z cartesian space."
   ]
  },
  {
   "cell_type": "code",
   "execution_count": 18,
   "metadata": {
    "id": "v-NfDbDQOjut"
   },
   "outputs": [],
   "source": [
    "df['X'] = np.cos(df.lat_rad)*np.cos(df.lon_rad)\n",
    "# You complete the code for Y and Z\n"
   ]
  },
  {
   "cell_type": "code",
   "execution_count": 33,
   "metadata": {},
   "outputs": [],
   "source": [
    "# Delete\n",
    "df['Y'] = np.cos(df.lat_rad)*np.sin(df.lon_rad)\n",
    "df['Z'] = np.sin(df.lat_rad)"
   ]
  },
  {
   "cell_type": "markdown",
   "metadata": {
    "id": "rIt27NB9QGx3"
   },
   "source": [
    "Alright so now we have our dataframe all set, now we just have to compute the geographic mean using the formulas:\n",
    "\n",
    "$\\overline{X} = \\frac{X_{n}}{n}$\n",
    "\n",
    "\n",
    "$\\overline{Y} = \\frac{Y_{n}}{n}$\n",
    "\n",
    "$\\overline{Z} = \\frac{Z_{n}}{n}$\n",
    "\n",
    "for each decade..."
   ]
  },
  {
   "cell_type": "markdown",
   "metadata": {
    "id": "VOGyJEhFSgi3"
   },
   "source": [
    "So  we need to do our analysis on the subset out each decade.\n",
    "\n",
    "Hmm...\n",
    "\n",
    "We need to go back to our indexing expertise. "
   ]
  },
  {
   "cell_type": "code",
   "execution_count": 34,
   "metadata": {
    "id": "6VBvboKyTjTA"
   },
   "outputs": [
    {
     "name": "stdout",
     "output_type": "stream",
     "text": [
      "     Decade        Team   State  Latitude  Longitude   lat_rad   lon_rad  \\\n",
      "0      1900      Boston      MA  42.35866   -71.0567  0.739298 -1.240173   \n",
      "1      1900    Brooklyn      NY  40.69245   -73.9904  0.710217 -1.291376   \n",
      "2      1900     Chicago      IL  41.88425   -87.6324  0.731018 -1.529474   \n",
      "3      1900  Cincinnati      OH  39.10713   -84.5041  0.682548 -1.474875   \n",
      "4      1900    New York      NY  40.78200   -73.8317  0.711780 -1.288606   \n",
      "..      ...         ...     ...       ...        ...       ...       ...   \n",
      "137    2010   St. Louis      MO  38.62775   -90.1996  0.674181 -1.574280   \n",
      "138    2010   Tampa Bay      FL  27.58300   -82.6330  0.481414 -1.442218   \n",
      "139    2010       Tempe      AZ  33.42551  -111.9370  0.583385 -1.953669   \n",
      "140    2010     Toronto  Canada  43.65740   -79.4328  0.761965 -1.386364   \n",
      "141    2010  Washington      DC  38.89037   -77.0320  0.678765 -1.344462   \n",
      "\n",
      "            X         Y         Z  \n",
      "0    0.239884 -0.698921  0.673769  \n",
      "1    0.209116 -0.728813  0.651998  \n",
      "2    0.030756 -0.743860  0.667628  \n",
      "3    0.074318 -0.772401  0.630772  \n",
      "4    0.210850 -0.727251  0.653183  \n",
      "..        ...       ...       ...  \n",
      "137 -0.002722 -0.781213  0.624258  \n",
      "138  0.113651 -0.879024  0.463033  \n",
      "139 -0.311797 -0.774173  0.550852  \n",
      "140  0.132678 -0.711211  0.690345  \n",
      "141  0.174667 -0.758497  0.627832  \n",
      "\n",
      "[142 rows x 10 columns]\n"
     ]
    }
   ],
   "source": [
    "print(df)"
   ]
  },
  {
   "cell_type": "code",
   "execution_count": 35,
   "metadata": {
    "id": "hk4MC5UL1rEv"
   },
   "outputs": [
    {
     "name": "stdout",
     "output_type": "stream",
     "text": [
      "Decade       1960.000000\n",
      "Latitude       40.064213\n",
      "Longitude     -86.971988\n",
      "lat_rad         0.699252\n",
      "lon_rad        -1.517948\n",
      "X               0.038300\n",
      "Y              -0.740331\n",
      "Z               0.643188\n",
      "dtype: float64\n"
     ]
    },
    {
     "name": "stderr",
     "output_type": "stream",
     "text": [
      "/Users/f67f911/opt/anaconda3/envs/swe/lib/python3.10/site-packages/numpy/core/fromnumeric.py:3430: FutureWarning: In a future version, DataFrame.mean(axis=None) will return a scalar mean over the entire DataFrame. To retain the old behavior, use 'frame.mean(axis=0)' or just 'frame.mean()'\n",
      "  return mean(axis=axis, dtype=dtype, out=out, **kwargs)\n",
      "/Users/f67f911/opt/anaconda3/envs/swe/lib/python3.10/site-packages/numpy/core/fromnumeric.py:3430: FutureWarning: Dropping of nuisance columns in DataFrame reductions (with 'numeric_only=None') is deprecated; in a future version this will raise TypeError.  Select only valid columns before calling the reduction.\n",
      "  return mean(axis=axis, dtype=dtype, out=out, **kwargs)\n"
     ]
    }
   ],
   "source": [
    "data_1960X = np.mean(df.loc[(df['Decade'] == 1960)])\n",
    "# data_1960X = df.loc[(df['Decade'] == 1960)].mean()\n",
    "print(data_1960X)"
   ]
  },
  {
   "cell_type": "markdown",
   "metadata": {
    "id": "7U8DzXIHhWVC"
   },
   "source": [
    "While that was pretty sweet, doing this for all of the decades will be a pain. Plus then you are going to have a variable (like data_1960X for each of the decades. \n",
    "\n",
    "This is where the power of computing really shows its strengths.\n",
    "\n",
    "Pandas `groupby` groups data according to the categories and apply a function to the categories.\n",
    "\n",
    "Let me show you what I mean."
   ]
  },
  {
   "cell_type": "code",
   "execution_count": 36,
   "metadata": {
    "id": "5utbH9u1_adf"
   },
   "outputs": [
    {
     "name": "stdout",
     "output_type": "stream",
     "text": [
      "         Latitude  Longitude   lat_rad   lon_rad         X         Y         Z\n",
      "Decade                                                                        \n",
      "1900    40.480357 -79.546863  0.706516 -1.388355  0.136338 -0.742877  0.649048\n",
      "1920    40.635912 -79.751781  0.709230 -1.391931  0.133634 -0.741790  0.651082\n",
      "1940    40.635912 -79.751781  0.709230 -1.391931  0.133634 -0.741790  0.651082\n",
      "1960    40.064213 -86.971987  0.699252 -1.517948  0.038300 -0.740331  0.643188\n",
      "1980    39.338697 -91.991654  0.686590 -1.605557 -0.028153 -0.737364  0.631988\n",
      "2000    38.485363 -92.402903  0.671696 -1.612735 -0.032835 -0.747164  0.619978\n",
      "2010    38.179712 -92.490617  0.666362 -1.614266 -0.033013 -0.750535  0.615800\n"
     ]
    }
   ],
   "source": [
    "geogMean = df.groupby(['Decade']).mean()\n",
    "print(geogMean)"
   ]
  },
  {
   "cell_type": "markdown",
   "metadata": {
    "id": "ndnNwA1eh8lD"
   },
   "source": [
    "Holy Cow - that was slick. But it looks like `Decade` is not a column name, and is instead an index. (This caused me a lot of suffering while developing this lab!)\n",
    "\n",
    "> Let's redo our work, but clean up our dataset."
   ]
  },
  {
   "cell_type": "code",
   "execution_count": 37,
   "metadata": {
    "id": "EeGVoy-fCD--"
   },
   "outputs": [
    {
     "name": "stdout",
     "output_type": "stream",
     "text": [
      "   Decade   Latitude  Longitude   lat_rad   lon_rad         X         Y  \\\n",
      "0    1900  40.480357 -79.546863  0.706516 -1.388355  0.136338 -0.742877   \n",
      "1    1920  40.635912 -79.751781  0.709230 -1.391931  0.133634 -0.741790   \n",
      "2    1940  40.635912 -79.751781  0.709230 -1.391931  0.133634 -0.741790   \n",
      "3    1960  40.064213 -86.971987  0.699252 -1.517948  0.038300 -0.740331   \n",
      "4    1980  39.338697 -91.991654  0.686590 -1.605557 -0.028153 -0.737364   \n",
      "5    2000  38.485363 -92.402903  0.671696 -1.612735 -0.032835 -0.747164   \n",
      "6    2010  38.179712 -92.490617  0.666362 -1.614266 -0.033013 -0.750535   \n",
      "\n",
      "          Z  \n",
      "0  0.649048  \n",
      "1  0.651082  \n",
      "2  0.651082  \n",
      "3  0.643188  \n",
      "4  0.631988  \n",
      "5  0.619978  \n",
      "6  0.615800  \n"
     ]
    }
   ],
   "source": [
    "geogMean = df.groupby(['Decade'],as_index=False).mean() # Don't make decade an Index! Instead it should be a column name.\n",
    "print(geogMean)\n"
   ]
  },
  {
   "cell_type": "markdown",
   "metadata": {
    "id": "9W9BXod-jPe6"
   },
   "source": [
    "##Questions\n",
    "3. What is the mean x,y, and z coordinate for 2010?\n"
   ]
  },
  {
   "cell_type": "markdown",
   "metadata": {
    "id": "JBl1fTDVAY97"
   },
   "source": [
    "# Converting back to lat and long\n",
    "\n",
    "As we discussed in class lat and lon are great for mapping things on a flat map, but do not do so well with measuring distances on a sphere. \n",
    "\n",
    "To display our mean centers on a webmap we have to take our x,y, and z measuremtns and return them to Lat and Long\n",
    "\n",
    "Convert lat and lon to degrees from radians.\n",
    "\n",
    "```\n",
    "meanLat = meanLat * 180/PI\n",
    "meanLon = meanLon * 180/PI\n",
    "```\n",
    "\n",
    "Convert average x, y, z coordinate to latitude and longitude. \n",
    "\n",
    "```\n",
    "meanLon = arctan2(y, x)\n",
    "Hyp = sqrt(x * x + y * y)\n",
    "meanLat = arctan2(z, hyp)\n",
    "```\n",
    "\n",
    "\n",
    "\n"
   ]
  },
  {
   "cell_type": "code",
   "execution_count": null,
   "metadata": {
    "id": "PdUSVD0WBJCm"
   },
   "outputs": [],
   "source": [
    "#Create a column for the mean latitude and mean longitude in our geogMean dataframe here\n",
    "#HINT: you may need to make an additioanl column to calculate mean lattitude"
   ]
  },
  {
   "cell_type": "code",
   "execution_count": 45,
   "metadata": {
    "id": "ZQYA43rreNkd"
   },
   "outputs": [
    {
     "data": {
      "text/html": [
       "<div>\n",
       "<style scoped>\n",
       "    .dataframe tbody tr th:only-of-type {\n",
       "        vertical-align: middle;\n",
       "    }\n",
       "\n",
       "    .dataframe tbody tr th {\n",
       "        vertical-align: top;\n",
       "    }\n",
       "\n",
       "    .dataframe thead th {\n",
       "        text-align: right;\n",
       "    }\n",
       "</style>\n",
       "<table border=\"1\" class=\"dataframe\">\n",
       "  <thead>\n",
       "    <tr style=\"text-align: right;\">\n",
       "      <th></th>\n",
       "      <th>Decade</th>\n",
       "      <th>Latitude</th>\n",
       "      <th>Longitude</th>\n",
       "      <th>lat_rad</th>\n",
       "      <th>lon_rad</th>\n",
       "      <th>X</th>\n",
       "      <th>Y</th>\n",
       "      <th>Z</th>\n",
       "      <th>meanLat</th>\n",
       "      <th>meanLon</th>\n",
       "    </tr>\n",
       "  </thead>\n",
       "  <tbody>\n",
       "    <tr>\n",
       "      <th>0</th>\n",
       "      <td>1900</td>\n",
       "      <td>40.480357</td>\n",
       "      <td>-79.546863</td>\n",
       "      <td>0.706516</td>\n",
       "      <td>-1.388355</td>\n",
       "      <td>-0.638927</td>\n",
       "      <td>-0.742877</td>\n",
       "      <td>0.649048</td>\n",
       "      <td>40.480358</td>\n",
       "      <td>-79.546863</td>\n",
       "    </tr>\n",
       "    <tr>\n",
       "      <th>1</th>\n",
       "      <td>1920</td>\n",
       "      <td>40.635912</td>\n",
       "      <td>-79.751781</td>\n",
       "      <td>0.709230</td>\n",
       "      <td>-1.391931</td>\n",
       "      <td>-0.638226</td>\n",
       "      <td>-0.741790</td>\n",
       "      <td>0.651082</td>\n",
       "      <td>40.635912</td>\n",
       "      <td>-79.751781</td>\n",
       "    </tr>\n",
       "    <tr>\n",
       "      <th>2</th>\n",
       "      <td>1940</td>\n",
       "      <td>40.635912</td>\n",
       "      <td>-79.751781</td>\n",
       "      <td>0.709230</td>\n",
       "      <td>-1.391931</td>\n",
       "      <td>-0.638226</td>\n",
       "      <td>-0.741790</td>\n",
       "      <td>0.651082</td>\n",
       "      <td>40.635912</td>\n",
       "      <td>-79.751781</td>\n",
       "    </tr>\n",
       "    <tr>\n",
       "      <th>3</th>\n",
       "      <td>1960</td>\n",
       "      <td>40.064213</td>\n",
       "      <td>-86.971987</td>\n",
       "      <td>0.699252</td>\n",
       "      <td>-1.517948</td>\n",
       "      <td>-0.637284</td>\n",
       "      <td>-0.740331</td>\n",
       "      <td>0.643188</td>\n",
       "      <td>40.064213</td>\n",
       "      <td>-86.971988</td>\n",
       "    </tr>\n",
       "    <tr>\n",
       "      <th>4</th>\n",
       "      <td>1980</td>\n",
       "      <td>39.338697</td>\n",
       "      <td>-91.991654</td>\n",
       "      <td>0.686590</td>\n",
       "      <td>-1.605557</td>\n",
       "      <td>-0.635365</td>\n",
       "      <td>-0.737364</td>\n",
       "      <td>0.631988</td>\n",
       "      <td>39.338697</td>\n",
       "      <td>-91.991654</td>\n",
       "    </tr>\n",
       "    <tr>\n",
       "      <th>5</th>\n",
       "      <td>2000</td>\n",
       "      <td>38.485363</td>\n",
       "      <td>-92.402903</td>\n",
       "      <td>0.671696</td>\n",
       "      <td>-1.612735</td>\n",
       "      <td>-0.641684</td>\n",
       "      <td>-0.747164</td>\n",
       "      <td>0.619978</td>\n",
       "      <td>38.485363</td>\n",
       "      <td>-92.402903</td>\n",
       "    </tr>\n",
       "    <tr>\n",
       "      <th>6</th>\n",
       "      <td>2010</td>\n",
       "      <td>38.179712</td>\n",
       "      <td>-92.490617</td>\n",
       "      <td>0.666362</td>\n",
       "      <td>-1.614266</td>\n",
       "      <td>-0.643844</td>\n",
       "      <td>-0.750535</td>\n",
       "      <td>0.615800</td>\n",
       "      <td>38.179712</td>\n",
       "      <td>-92.490617</td>\n",
       "    </tr>\n",
       "  </tbody>\n",
       "</table>\n",
       "</div>"
      ],
      "text/plain": [
       "   Decade   Latitude  Longitude   lat_rad   lon_rad         X         Y  \\\n",
       "0    1900  40.480357 -79.546863  0.706516 -1.388355 -0.638927 -0.742877   \n",
       "1    1920  40.635912 -79.751781  0.709230 -1.391931 -0.638226 -0.741790   \n",
       "2    1940  40.635912 -79.751781  0.709230 -1.391931 -0.638226 -0.741790   \n",
       "3    1960  40.064213 -86.971987  0.699252 -1.517948 -0.637284 -0.740331   \n",
       "4    1980  39.338697 -91.991654  0.686590 -1.605557 -0.635365 -0.737364   \n",
       "5    2000  38.485363 -92.402903  0.671696 -1.612735 -0.641684 -0.747164   \n",
       "6    2010  38.179712 -92.490617  0.666362 -1.614266 -0.643844 -0.750535   \n",
       "\n",
       "          Z    meanLat    meanLon  \n",
       "0  0.649048  40.480358 -79.546863  \n",
       "1  0.651082  40.635912 -79.751781  \n",
       "2  0.651082  40.635912 -79.751781  \n",
       "3  0.643188  40.064213 -86.971988  \n",
       "4  0.631988  39.338697 -91.991654  \n",
       "5  0.619978  38.485363 -92.402903  \n",
       "6  0.615800  38.179712 -92.490617  "
      ]
     },
     "execution_count": 45,
     "metadata": {},
     "output_type": "execute_result"
    }
   ],
   "source": [
    "# Delete\n",
    "geogMean[\"meanLat\"] = geogMean['lat_rad'] * 180/PI\n",
    "geogMean[\"meanLon\"] = geogMean['lon_rad'] * 180/PI\n",
    "\n",
    "# geogMean[\"meanLon\"] = np.arctan(geogMean['Y'], geogMean['X'])\n",
    "geogMean"
   ]
  },
  {
   "cell_type": "markdown",
   "metadata": {
    "id": "BAJev9gmSuWg"
   },
   "source": [
    "Now lets clean up our dataset. We only care about the Mean Latitude, Mean Longitude, and Decade columns. Drop the other columns from the geogMean dataframe"
   ]
  },
  {
   "cell_type": "code",
   "execution_count": null,
   "metadata": {},
   "outputs": [],
   "source": [
    "# Delete \n"
   ]
  },
  {
   "cell_type": "code",
   "execution_count": 31,
   "metadata": {
    "id": "hSRoV-qmbD3I"
   },
   "outputs": [],
   "source": [
    "geogMean['Decade'] = geogMean['Decade'].apply(str) #Confirms that the decade variable a string"
   ]
  },
  {
   "cell_type": "markdown",
   "metadata": {
    "id": "Wg2YIy7GEUVE"
   },
   "source": [
    "Now let's map out these data using [Folium](/https://python-visualization.github.io/folium/quickstart.html#Vincent/Vega-and-Altair/VegaLite-Markers)."
   ]
  },
  {
   "cell_type": "code",
   "execution_count": null,
   "metadata": {},
   "outputs": [],
   "source": []
  },
  {
   "cell_type": "code",
   "execution_count": null,
   "metadata": {
    "id": "L8airCk5Dquz"
   },
   "outputs": [],
   "source": [
    "#Create a webmap here that displays the mean centers of MLB teams over time. \n",
    "\n",
    "#HINT: While this is possible in many lines of code, you can be more efficeint with a For loop. \n",
    "#https://www.w3schools.com/python/python_for_loops.asp"
   ]
  },
  {
   "cell_type": "markdown",
   "metadata": {
    "id": "12x1bgTBj3qx"
   },
   "source": [
    "##Questions\n",
    "4. Our map shows an unweighted spatial **Mean** of professional baseball teams over time. What do you think might change if we graphed the spatial **Median** of the teams? Why?\n",
    "5. Liam is a huge baseball fan. According to our map, where should he move to be as close to as many professional teams as possible? \n",
    "6. Liam wants to minimize his travel time to see as many games as possible. Do you think he should decide where to move using the spatial mean of the teams or the spatial median? Why?"
   ]
  }
 ],
 "metadata": {
  "colab": {
   "name": "Lab02_v1.ipynb",
   "provenance": []
  },
  "kernelspec": {
   "display_name": "Python 3 (ipykernel)",
   "language": "python",
   "name": "python3"
  },
  "language_info": {
   "codemirror_mode": {
    "name": "ipython",
    "version": 3
   },
   "file_extension": ".py",
   "mimetype": "text/x-python",
   "name": "python",
   "nbconvert_exporter": "python",
   "pygments_lexer": "ipython3",
   "version": "3.10.5"
  }
 },
 "nbformat": 4,
 "nbformat_minor": 4
}
