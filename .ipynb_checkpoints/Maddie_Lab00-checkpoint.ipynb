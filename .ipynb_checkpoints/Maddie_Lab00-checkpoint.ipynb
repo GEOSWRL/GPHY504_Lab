{
 "cells": [
  {
   "cell_type": "markdown",
   "id": "aa610fea-bcaf-48b3-9a33-8909d14b9c7a",
   "metadata": {},
   "source": [
    "# Lab02 - Data manipulation, geostatistical analysis, and mapping\n",
    "\n",
    "Learning goals\n",
    "\n",
    "- develop skills in importing and modifying data using python.\n",
    "- perform geographic statistical operations and transformations using python\n",
    "- devlop skill in new and innovative means of mapping\n",
    "\n",
    "---\n",
    "\n",
    "This lab will look at an incredibly esoteric dataset and question. How has the geographic center of baseball teams shifted since 1900.\n",
    "\n",
    "*Disclaimer* - I do not really even like baseball, but it is a cool dataset and also tells us a bit about how we have shifted geographically as a society."
   ]
  },
  {
   "cell_type": "code",
   "execution_count": 1,
   "id": "d60d1c78-70f9-491e-891a-24d2a9129d7e",
   "metadata": {},
   "outputs": [],
   "source": [
    "# First lets import the packages we will need. Always put these up front!\n",
    "%matplotlib inline\n",
    "import numpy as np\n",
    "import math\n",
    "import folium #Folium is a library that allows us to create webmaps\n",
    "# This will get all of the libraries (subcomponents of the packages and modules).  \n",
    "import matplotlib as mpl\n",
    "import matplotlib.pyplot as plt\n",
    "import pandas as pd\n",
    "import seaborn as sns\n",
    "import statistics\n",
    "import scipy\n",
    "from scipy.stats import kurtosis\n",
    "from scipy.stats import skew\n",
    "from scipy.stats import variation\n",
    "import geopandas as gpd\n",
    "import mapclassify\n",
    "import os"
   ]
  },
  {
   "cell_type": "code",
   "execution_count": 2,
   "id": "606c7d5c-88fb-4157-9c60-18f71600737c",
   "metadata": {},
   "outputs": [
    {
     "data": {
      "text/plain": [
       "'/home/f67f911/GPHY504_Lab'"
      ]
     },
     "execution_count": 2,
     "metadata": {},
     "output_type": "execute_result"
    }
   ],
   "source": [
    "# First, let's check what your directory looks like. This will help you troubleshoot if for some reason you are not able to \n",
    "# work with the baseball .csv file\n",
    "# The operating system (os) getcwd will do this for you\n",
    "os.getcwd()"
   ]
  },
  {
   "cell_type": "code",
   "execution_count": 3,
   "id": "7db17333-93f5-4a9a-8063-8c2ee1aa0f57",
   "metadata": {},
   "outputs": [
    {
     "name": "stdout",
     "output_type": "stream",
     "text": [
      "<bound method NDFrame.head of      Decade        Team   State  Latitude  Longitude\n",
      "0      1900      Boston      MA  42.35866   -71.0567\n",
      "1      1900    Brooklyn      NY  40.69245   -73.9904\n",
      "2      1900     Chicago      IL  41.88425   -87.6324\n",
      "3      1900  Cincinnati      OH  39.10713   -84.5041\n",
      "4      1900    New York      NY  40.78200   -73.8317\n",
      "..      ...         ...     ...       ...        ...\n",
      "137    2010   St. Louis      MO  38.62775   -90.1996\n",
      "138    2010   Tampa Bay      FL  27.58300   -82.6330\n",
      "139    2010       Tempe      AZ  33.42551  -111.9370\n",
      "140    2010     Toronto  Canada  43.65740   -79.4328\n",
      "141    2010  Washington      DC  38.89037   -77.0320\n",
      "\n",
      "[142 rows x 5 columns]>\n",
      "Decade         int64\n",
      "Team          object\n",
      "State         object\n",
      "Latitude     float64\n",
      "Longitude    float64\n",
      "dtype: object\n"
     ]
    }
   ],
   "source": [
    "# Since we should have all of the necessary files stored within the GPHY504 lab folder, we should be able to tell python\n",
    "# to read the baseball file in.\n",
    "df = pd.read_csv('Baseball_Decades.csv')\n",
    "# Print the head of the new dataframe\n",
    "print(df.head)\n",
    "# Look at the different types of data that are stored in the dataframe\n",
    "print(df.dtypes)"
   ]
  },
  {
   "cell_type": "markdown",
   "id": "00265fc5-bf4f-4754-8708-aa255169f2c9",
   "metadata": {},
   "source": [
    "### It is important to look at the data types and understand the data, this will potentially mess you up later on!"
   ]
  },
  {
   "cell_type": "markdown",
   "id": "b84e73c1-8711-4d2c-9093-f48f3bae796a",
   "metadata": {},
   "source": [
    "### Indexing\n",
    "​\n",
    "[Indexing](https://pandas.pydata.org/pandas-docs/stable/user_guide/indexing.html) on a pandas DataFrame allows you to subset or filter the data based upon a condition(s) that you provide.\n",
    "​\n",
    "A couple new concepts: To access all rows of one or more columns, we can simply specify the column names in brackets. Note that the printout doesn't print all of our values, but tells us the total length of the column and also tells us the data type of all elements of the column. Since each pandas DataFrame column is a NumPy array, all values in a column have the same data type.\n",
    "---\n",
    "Understanding how to quickly index data will help you immensely with using coding languages in the future!"
   ]
  },
  {
   "cell_type": "code",
   "execution_count": 4,
   "id": "c625811a-80b9-40af-a24c-e045b1e1bd59",
   "metadata": {},
   "outputs": [
    {
     "name": "stdout",
     "output_type": "stream",
     "text": [
      "0          Boston\n",
      "1        Brooklyn\n",
      "2         Chicago\n",
      "3      Cincinnati\n",
      "4        New York\n",
      "          ...    \n",
      "137     St. Louis\n",
      "138     Tampa Bay\n",
      "139         Tempe\n",
      "140       Toronto\n",
      "141    Washington\n",
      "Name: Team, Length: 142, dtype: object\n"
     ]
    }
   ],
   "source": [
    "# Let's look at all of the cities that had a team\n",
    "print(df['Team']) # just print out the column of the cities that had a team"
   ]
  },
  {
   "cell_type": "code",
   "execution_count": 5,
   "id": "f10113f4-4da1-4112-b477-7c863775c0f7",
   "metadata": {},
   "outputs": [
    {
     "data": {
      "text/plain": [
       "array(['Boston', 'Brooklyn', 'Chicago', 'Cincinnati', 'New York',\n",
       "       'Philadelphia', 'Pittsburgh', 'St. Louis', 'Cleveland', 'Detroit',\n",
       "       'Washington', 'Baltimore', 'Kansas City', 'Los Angeles',\n",
       "       'Milwaukee', 'San Francisco', 'Anaheim', 'Atlanta', 'Austin',\n",
       "       'Houston', 'Minneapolis', 'Montreal', 'Oakland', 'San Diego',\n",
       "       'Seattle', 'Toronto', 'Arlington', 'Denver', 'Orlando',\n",
       "       'Tampa Bay', 'Tempe', 'Miami'], dtype=object)"
      ]
     },
     "execution_count": 5,
     "metadata": {},
     "output_type": "execute_result"
    }
   ],
   "source": [
    "# We can call the funciton 'unique' to look at all the unique team names \n",
    "df.Team.unique()"
   ]
  },
  {
   "cell_type": "code",
   "execution_count": 6,
   "id": "a745beee-644b-44d6-b9bc-5ee74725b73e",
   "metadata": {},
   "outputs": [
    {
     "name": "stdout",
     "output_type": "stream",
     "text": [
      "[1900 1920 1940 1960 1980 2000 2010]\n"
     ]
    }
   ],
   "source": [
    "# Let's look at all of the years we have data for as well\n",
    "print(df['Decade'].unique())"
   ]
  },
  {
   "cell_type": "markdown",
   "id": "15b7ae5c-c338-4b70-bec0-4bf0fcbd996e",
   "metadata": {},
   "source": [
    "### To access data by index labels, we must use the `.loc` attribute before the brackets. Recall from above that we currently have a `RangeIndex` with numbers that go from 0 to 141 with a step size of 1."
   ]
  },
  {
   "cell_type": "code",
   "execution_count": 7,
   "id": "d347a5f4-bdb6-4bbf-9feb-02a2feca1092",
   "metadata": {},
   "outputs": [
    {
     "data": {
      "text/plain": [
       "Decade           1900\n",
       "Team           Boston\n",
       "State              MA\n",
       "Latitude     42.35866\n",
       "Longitude    -71.0567\n",
       "Name: 0, dtype: object"
      ]
     },
     "execution_count": 7,
     "metadata": {},
     "output_type": "execute_result"
    }
   ],
   "source": [
    "df.loc[0] # just grab the first row"
   ]
  },
  {
   "cell_type": "code",
   "execution_count": 8,
   "id": "74b26f1c-1510-486f-85d3-198dc9ff2211",
   "metadata": {},
   "outputs": [
    {
     "data": {
      "text/html": [
       "<div>\n",
       "<style scoped>\n",
       "    .dataframe tbody tr th:only-of-type {\n",
       "        vertical-align: middle;\n",
       "    }\n",
       "\n",
       "    .dataframe tbody tr th {\n",
       "        vertical-align: top;\n",
       "    }\n",
       "\n",
       "    .dataframe thead th {\n",
       "        text-align: right;\n",
       "    }\n",
       "</style>\n",
       "<table border=\"1\" class=\"dataframe\">\n",
       "  <thead>\n",
       "    <tr style=\"text-align: right;\">\n",
       "      <th></th>\n",
       "      <th>Decade</th>\n",
       "      <th>Team</th>\n",
       "      <th>State</th>\n",
       "      <th>Latitude</th>\n",
       "      <th>Longitude</th>\n",
       "    </tr>\n",
       "  </thead>\n",
       "  <tbody>\n",
       "    <tr>\n",
       "      <th>70</th>\n",
       "      <td>1980</td>\n",
       "      <td>Minneapolis</td>\n",
       "      <td>MN</td>\n",
       "      <td>44.97903</td>\n",
       "      <td>-93.2649</td>\n",
       "    </tr>\n",
       "    <tr>\n",
       "      <th>71</th>\n",
       "      <td>1980</td>\n",
       "      <td>Montreal</td>\n",
       "      <td>Canada</td>\n",
       "      <td>45.51720</td>\n",
       "      <td>-73.5499</td>\n",
       "    </tr>\n",
       "    <tr>\n",
       "      <th>72</th>\n",
       "      <td>1980</td>\n",
       "      <td>New York</td>\n",
       "      <td>NY</td>\n",
       "      <td>40.78200</td>\n",
       "      <td>-73.8317</td>\n",
       "    </tr>\n",
       "    <tr>\n",
       "      <th>73</th>\n",
       "      <td>1980</td>\n",
       "      <td>New York</td>\n",
       "      <td>NY</td>\n",
       "      <td>40.78200</td>\n",
       "      <td>-73.8317</td>\n",
       "    </tr>\n",
       "    <tr>\n",
       "      <th>74</th>\n",
       "      <td>1980</td>\n",
       "      <td>Oakland</td>\n",
       "      <td>CA</td>\n",
       "      <td>37.80508</td>\n",
       "      <td>-122.2730</td>\n",
       "    </tr>\n",
       "    <tr>\n",
       "      <th>75</th>\n",
       "      <td>1980</td>\n",
       "      <td>Philadelphia</td>\n",
       "      <td>PA</td>\n",
       "      <td>39.95228</td>\n",
       "      <td>-75.1625</td>\n",
       "    </tr>\n",
       "    <tr>\n",
       "      <th>76</th>\n",
       "      <td>1980</td>\n",
       "      <td>Pittsburgh</td>\n",
       "      <td>PA</td>\n",
       "      <td>40.43834</td>\n",
       "      <td>-79.9975</td>\n",
       "    </tr>\n",
       "    <tr>\n",
       "      <th>77</th>\n",
       "      <td>1980</td>\n",
       "      <td>San Diego</td>\n",
       "      <td>CA</td>\n",
       "      <td>32.71569</td>\n",
       "      <td>-117.1620</td>\n",
       "    </tr>\n",
       "    <tr>\n",
       "      <th>78</th>\n",
       "      <td>1980</td>\n",
       "      <td>San Francisco</td>\n",
       "      <td>CA</td>\n",
       "      <td>37.77712</td>\n",
       "      <td>-122.4200</td>\n",
       "    </tr>\n",
       "    <tr>\n",
       "      <th>79</th>\n",
       "      <td>1980</td>\n",
       "      <td>Seattle</td>\n",
       "      <td>WA</td>\n",
       "      <td>47.60357</td>\n",
       "      <td>-122.3290</td>\n",
       "    </tr>\n",
       "    <tr>\n",
       "      <th>80</th>\n",
       "      <td>1980</td>\n",
       "      <td>St. Louis</td>\n",
       "      <td>MO</td>\n",
       "      <td>38.62775</td>\n",
       "      <td>-90.1996</td>\n",
       "    </tr>\n",
       "  </tbody>\n",
       "</table>\n",
       "</div>"
      ],
      "text/plain": [
       "    Decade           Team   State  Latitude  Longitude\n",
       "70    1980    Minneapolis      MN  44.97903   -93.2649\n",
       "71    1980       Montreal  Canada  45.51720   -73.5499\n",
       "72    1980       New York      NY  40.78200   -73.8317\n",
       "73    1980       New York      NY  40.78200   -73.8317\n",
       "74    1980        Oakland      CA  37.80508  -122.2730\n",
       "75    1980   Philadelphia      PA  39.95228   -75.1625\n",
       "76    1980     Pittsburgh      PA  40.43834   -79.9975\n",
       "77    1980      San Diego      CA  32.71569  -117.1620\n",
       "78    1980  San Francisco      CA  37.77712  -122.4200\n",
       "79    1980        Seattle      WA  47.60357  -122.3290\n",
       "80    1980      St. Louis      MO  38.62775   -90.1996"
      ]
     },
     "execution_count": 8,
     "metadata": {},
     "output_type": "execute_result"
    }
   ],
   "source": [
    "df.loc[70:80] # grab rows 70 - 80"
   ]
  },
  {
   "cell_type": "code",
   "execution_count": 9,
   "id": "c59280a7-39be-4bc1-ae02-2ce0b6a718e7",
   "metadata": {},
   "outputs": [
    {
     "data": {
      "text/html": [
       "<div>\n",
       "<style scoped>\n",
       "    .dataframe tbody tr th:only-of-type {\n",
       "        vertical-align: middle;\n",
       "    }\n",
       "\n",
       "    .dataframe tbody tr th {\n",
       "        vertical-align: top;\n",
       "    }\n",
       "\n",
       "    .dataframe thead th {\n",
       "        text-align: right;\n",
       "    }\n",
       "</style>\n",
       "<table border=\"1\" class=\"dataframe\">\n",
       "  <thead>\n",
       "    <tr style=\"text-align: right;\">\n",
       "      <th></th>\n",
       "      <th>Team</th>\n",
       "      <th>Decade</th>\n",
       "    </tr>\n",
       "  </thead>\n",
       "  <tbody>\n",
       "    <tr>\n",
       "      <th>10</th>\n",
       "      <td>Brooklyn</td>\n",
       "      <td>1920</td>\n",
       "    </tr>\n",
       "    <tr>\n",
       "      <th>11</th>\n",
       "      <td>Chicago</td>\n",
       "      <td>1920</td>\n",
       "    </tr>\n",
       "    <tr>\n",
       "      <th>12</th>\n",
       "      <td>Chicago</td>\n",
       "      <td>1920</td>\n",
       "    </tr>\n",
       "    <tr>\n",
       "      <th>13</th>\n",
       "      <td>Cincinnati</td>\n",
       "      <td>1920</td>\n",
       "    </tr>\n",
       "    <tr>\n",
       "      <th>14</th>\n",
       "      <td>Cleveland</td>\n",
       "      <td>1920</td>\n",
       "    </tr>\n",
       "    <tr>\n",
       "      <th>15</th>\n",
       "      <td>Detroit</td>\n",
       "      <td>1920</td>\n",
       "    </tr>\n",
       "    <tr>\n",
       "      <th>16</th>\n",
       "      <td>New York</td>\n",
       "      <td>1920</td>\n",
       "    </tr>\n",
       "    <tr>\n",
       "      <th>17</th>\n",
       "      <td>New York</td>\n",
       "      <td>1920</td>\n",
       "    </tr>\n",
       "    <tr>\n",
       "      <th>18</th>\n",
       "      <td>Philadelphia</td>\n",
       "      <td>1920</td>\n",
       "    </tr>\n",
       "    <tr>\n",
       "      <th>19</th>\n",
       "      <td>Philadelphia</td>\n",
       "      <td>1920</td>\n",
       "    </tr>\n",
       "    <tr>\n",
       "      <th>20</th>\n",
       "      <td>Pittsburgh</td>\n",
       "      <td>1920</td>\n",
       "    </tr>\n",
       "  </tbody>\n",
       "</table>\n",
       "</div>"
      ],
      "text/plain": [
       "            Team  Decade\n",
       "10      Brooklyn    1920\n",
       "11       Chicago    1920\n",
       "12       Chicago    1920\n",
       "13    Cincinnati    1920\n",
       "14     Cleveland    1920\n",
       "15       Detroit    1920\n",
       "16      New York    1920\n",
       "17      New York    1920\n",
       "18  Philadelphia    1920\n",
       "19  Philadelphia    1920\n",
       "20    Pittsburgh    1920"
      ]
     },
     "execution_count": 9,
     "metadata": {},
     "output_type": "execute_result"
    }
   ],
   "source": [
    "df.loc[10:20, ['Team','Decade']] # grab rows 10 - 20, but just the team and decade columns. \n",
    "# Notice how the column order was switched based on the order we specified to grab column data from"
   ]
  },
  {
   "cell_type": "markdown",
   "id": "be315332-68e3-4343-8201-b3077a6cd25c",
   "metadata": {},
   "source": [
    "#### We can use conditional statements and boolean logic in combination with `.loc` as well. Instead of the English words `and` and `or` like we used in Lab 1 conditional statements, use `&` and `|` characters for bitwise comparisons in the `.loc` statements. Also note that multiple logical statements each need to be enclosed in their own parentheses:\n",
    "\n",
    "Lets find all of the data for 1960..."
   ]
  },
  {
   "cell_type": "code",
   "execution_count": 10,
   "id": "1008e6ee-b5c9-4471-8f47-713ce1ff2f46",
   "metadata": {},
   "outputs": [
    {
     "data": {
      "text/html": [
       "<div>\n",
       "<style scoped>\n",
       "    .dataframe tbody tr th:only-of-type {\n",
       "        vertical-align: middle;\n",
       "    }\n",
       "\n",
       "    .dataframe tbody tr th {\n",
       "        vertical-align: top;\n",
       "    }\n",
       "\n",
       "    .dataframe thead th {\n",
       "        text-align: right;\n",
       "    }\n",
       "</style>\n",
       "<table border=\"1\" class=\"dataframe\">\n",
       "  <thead>\n",
       "    <tr style=\"text-align: right;\">\n",
       "      <th></th>\n",
       "      <th>Decade</th>\n",
       "      <th>Team</th>\n",
       "      <th>State</th>\n",
       "      <th>Latitude</th>\n",
       "      <th>Longitude</th>\n",
       "    </tr>\n",
       "  </thead>\n",
       "  <tbody>\n",
       "    <tr>\n",
       "      <th>40</th>\n",
       "      <td>1960</td>\n",
       "      <td>Baltimore</td>\n",
       "      <td>MD</td>\n",
       "      <td>39.29058</td>\n",
       "      <td>-76.6093</td>\n",
       "    </tr>\n",
       "    <tr>\n",
       "      <th>41</th>\n",
       "      <td>1960</td>\n",
       "      <td>Boston</td>\n",
       "      <td>MA</td>\n",
       "      <td>42.35866</td>\n",
       "      <td>-71.0567</td>\n",
       "    </tr>\n",
       "    <tr>\n",
       "      <th>42</th>\n",
       "      <td>1960</td>\n",
       "      <td>Chicago</td>\n",
       "      <td>IL</td>\n",
       "      <td>41.88425</td>\n",
       "      <td>-87.6324</td>\n",
       "    </tr>\n",
       "    <tr>\n",
       "      <th>43</th>\n",
       "      <td>1960</td>\n",
       "      <td>Chicago</td>\n",
       "      <td>IL</td>\n",
       "      <td>41.88425</td>\n",
       "      <td>-87.6324</td>\n",
       "    </tr>\n",
       "    <tr>\n",
       "      <th>44</th>\n",
       "      <td>1960</td>\n",
       "      <td>Cincinnati</td>\n",
       "      <td>OH</td>\n",
       "      <td>39.10713</td>\n",
       "      <td>-84.5041</td>\n",
       "    </tr>\n",
       "    <tr>\n",
       "      <th>45</th>\n",
       "      <td>1960</td>\n",
       "      <td>Cleveland</td>\n",
       "      <td>OH</td>\n",
       "      <td>41.50475</td>\n",
       "      <td>-81.6907</td>\n",
       "    </tr>\n",
       "    <tr>\n",
       "      <th>46</th>\n",
       "      <td>1960</td>\n",
       "      <td>Detroit</td>\n",
       "      <td>MI</td>\n",
       "      <td>42.33168</td>\n",
       "      <td>-83.0480</td>\n",
       "    </tr>\n",
       "    <tr>\n",
       "      <th>47</th>\n",
       "      <td>1960</td>\n",
       "      <td>Kansas City</td>\n",
       "      <td>MO</td>\n",
       "      <td>39.10295</td>\n",
       "      <td>-94.5831</td>\n",
       "    </tr>\n",
       "    <tr>\n",
       "      <th>48</th>\n",
       "      <td>1960</td>\n",
       "      <td>Los Angeles</td>\n",
       "      <td>CA</td>\n",
       "      <td>34.05349</td>\n",
       "      <td>-118.2450</td>\n",
       "    </tr>\n",
       "    <tr>\n",
       "      <th>49</th>\n",
       "      <td>1960</td>\n",
       "      <td>Milwaukee</td>\n",
       "      <td>WI</td>\n",
       "      <td>43.04181</td>\n",
       "      <td>-87.9068</td>\n",
       "    </tr>\n",
       "    <tr>\n",
       "      <th>50</th>\n",
       "      <td>1960</td>\n",
       "      <td>New York</td>\n",
       "      <td>NY</td>\n",
       "      <td>40.78200</td>\n",
       "      <td>-73.8317</td>\n",
       "    </tr>\n",
       "    <tr>\n",
       "      <th>51</th>\n",
       "      <td>1960</td>\n",
       "      <td>Philadelphia</td>\n",
       "      <td>PA</td>\n",
       "      <td>39.95228</td>\n",
       "      <td>-75.1625</td>\n",
       "    </tr>\n",
       "    <tr>\n",
       "      <th>52</th>\n",
       "      <td>1960</td>\n",
       "      <td>Pittsburgh</td>\n",
       "      <td>PA</td>\n",
       "      <td>40.43834</td>\n",
       "      <td>-79.9975</td>\n",
       "    </tr>\n",
       "    <tr>\n",
       "      <th>53</th>\n",
       "      <td>1960</td>\n",
       "      <td>San Francisco</td>\n",
       "      <td>CA</td>\n",
       "      <td>37.77712</td>\n",
       "      <td>-122.4200</td>\n",
       "    </tr>\n",
       "    <tr>\n",
       "      <th>54</th>\n",
       "      <td>1960</td>\n",
       "      <td>St. Louis</td>\n",
       "      <td>MO</td>\n",
       "      <td>38.62775</td>\n",
       "      <td>-90.1996</td>\n",
       "    </tr>\n",
       "    <tr>\n",
       "      <th>55</th>\n",
       "      <td>1960</td>\n",
       "      <td>Washington</td>\n",
       "      <td>DC</td>\n",
       "      <td>38.89037</td>\n",
       "      <td>-77.0320</td>\n",
       "    </tr>\n",
       "  </tbody>\n",
       "</table>\n",
       "</div>"
      ],
      "text/plain": [
       "    Decade           Team State  Latitude  Longitude\n",
       "40    1960      Baltimore    MD  39.29058   -76.6093\n",
       "41    1960         Boston    MA  42.35866   -71.0567\n",
       "42    1960        Chicago    IL  41.88425   -87.6324\n",
       "43    1960        Chicago    IL  41.88425   -87.6324\n",
       "44    1960     Cincinnati    OH  39.10713   -84.5041\n",
       "45    1960      Cleveland    OH  41.50475   -81.6907\n",
       "46    1960        Detroit    MI  42.33168   -83.0480\n",
       "47    1960    Kansas City    MO  39.10295   -94.5831\n",
       "48    1960    Los Angeles    CA  34.05349  -118.2450\n",
       "49    1960      Milwaukee    WI  43.04181   -87.9068\n",
       "50    1960       New York    NY  40.78200   -73.8317\n",
       "51    1960   Philadelphia    PA  39.95228   -75.1625\n",
       "52    1960     Pittsburgh    PA  40.43834   -79.9975\n",
       "53    1960  San Francisco    CA  37.77712  -122.4200\n",
       "54    1960      St. Louis    MO  38.62775   -90.1996\n",
       "55    1960     Washington    DC  38.89037   -77.0320"
      ]
     },
     "execution_count": 10,
     "metadata": {},
     "output_type": "execute_result"
    }
   ],
   "source": [
    "# Create a new data frame just with team data from the 1960's\n",
    "teams_1960s = df.loc[df['Decade'] == 1960]\n",
    "teams_1960s"
   ]
  },
  {
   "cell_type": "markdown",
   "id": "5057a41d-a588-46d1-97f4-01d4f2d9c15a",
   "metadata": {},
   "source": [
    "### Let's just look at the teams in the 1960s that were in Ohio."
   ]
  },
  {
   "cell_type": "code",
   "execution_count": null,
   "id": "00249b00-c029-4967-ac78-1f69dc9e1296",
   "metadata": {},
   "outputs": [],
   "source": [
    "# Combine a numerical value (Decade) with a text string (State)\n",
    "# We can use the & sign to specify when we want information that fits BOTH conditions\n",
    "data_1960_OH = df.loc[(df['Decade'] == 1960) & df.State.str.contains('OH')]\n",
    "data_1960_OH"
   ]
  },
  {
   "cell_type": "code",
   "execution_count": null,
   "id": "782a6be5-a53c-4cb0-9667-b56f4817b2a7",
   "metadata": {},
   "outputs": [],
   "source": [
    "# Do the same as above but for the year 1900 and teams that were in the state of New York!\n",
    "data_1900_NY = # enter your code here\n",
    "data_1900_NY"
   ]
  },
  {
   "cell_type": "markdown",
   "id": "fe3116e7-0e8e-4391-a8c4-39e05b6e77db",
   "metadata": {},
   "source": [
    "### One of the things to notice are the differences between the following two lines of code:\n",
    "\n",
    "```\n",
    "- df.loc[df['Decade'] == 1960]\n",
    "```\n",
    "\n",
    "```\n",
    "- teams_1960s = df.loc[df['Decade'] == 1960]\n",
    "```\n",
    "While both code blocks might look the same, the first code block simply displays the selection, like a filter in Excel. The second code block actually creates a new variable from the subset."
   ]
  },
  {
   "cell_type": "markdown",
   "id": "25826a86-5ff3-46c5-ae4f-0b7b45945d41",
   "metadata": {},
   "source": [
    "## Questions\n",
    "### 1. What team is saved in the 75th row? \n",
    "Your answer here\n",
    "### 2. How many baseball teams were in NY state in 1900? How many teams were in NY state in 2000?\n",
    "Your answer here"
   ]
  },
  {
   "cell_type": "markdown",
   "id": "532cf56c-14a4-4434-9f27-f4d43d410d16",
   "metadata": {},
   "source": [
    "--- \n",
    "## Getting the Latitude and Longitude into a cartesian surface. \n",
    "\n",
    "While it is easier for us to visualize lat & lon, the reality is that it is good for a flat map, not something like a sphere. The reality is that it is not great for measuring distance on something like a sphere. Because of the we need to convert the Latitude and Longitude column into radians and then into a Cartesian plane. This will give our locations a numeric values rather than and coordinate value.\n",
    "\n",
    "Convert Lat and Lon from degrees to radians using the general formulas.\n",
    "\n",
    "```\n",
    "lat_rad = lat * PI/180\n",
    "lon_rad = lon * PI/180\n",
    "```\n",
    "Now we need to get into a Cartesian space.\n",
    "\n",
    "```\n",
    "X = cos(lat_rad)*cos(lon_rad)\n",
    "Y = cos(lat_rad)*sin(lon_rad)\n",
    "Z = sin(lat_rad)\n",
    "```\n",
    "\n",
    "So now let's turn that into executable code. To see how that might work, you need to run the following code in a new code cell:\n",
    "\n",
    "\n",
    "```\n",
    "demo = pd.DataFrame({\"a\": [1, 2, 3], \"b\": [4, 5, 6]})\n",
    "demo[\"shiny_new_column\"] = demo[\"a\"] * demo[\"b\"]\n",
    "\n",
    "print(demo)\n",
    "```"
   ]
  },
  {
   "cell_type": "markdown",
   "id": "3e391ebc-a16e-4b73-baf9-5e898514f2cf",
   "metadata": {},
   "source": [
    "### Now let's roll with this on our Baseball dataset. "
   ]
  },
  {
   "cell_type": "code",
   "execution_count": null,
   "id": "33ea2c98-472a-4b40-9b04-ebe265d72cdb",
   "metadata": {},
   "outputs": [],
   "source": [
    "# Python has some nice built in math variables, such as pi\n",
    "PI = math.pi # set the PI variable using the math package for simplicity \n",
    "# Look at the variable\n",
    "PI"
   ]
  },
  {
   "cell_type": "code",
   "execution_count": null,
   "id": "3e51b688-643d-41ed-92db-07bc1e4c5132",
   "metadata": {},
   "outputs": [],
   "source": [
    "# Finish this cell block for lon_rad\n",
    "df[\"lat_rad\"] = df[\"Latitude\"] * PI/180\n",
    "\n",
    "# You insert code for lon_rad here\n"
   ]
  },
  {
   "cell_type": "markdown",
   "id": "b640fd07-8c38-46cc-bb0c-ab4b9bd80b5e",
   "metadata": {},
   "source": [
    "### Now convert the X,Y,Z cartesian space."
   ]
  },
  {
   "cell_type": "code",
   "execution_count": null,
   "id": "ca8e7557-07f3-4a67-8370-1da81621c3b0",
   "metadata": {},
   "outputs": [],
   "source": [
    "# Convert to X cartesian space\n",
    "df['Z'] = np.sin(df.lat_rad)\n",
    "\n",
    "# You complete the code for X and Y"
   ]
  },
  {
   "cell_type": "markdown",
   "id": "0be69c90-f858-49ce-af54-5e596cc460a5",
   "metadata": {},
   "source": [
    "Alright so now we have our dataframe all set, now we just have to compute the geographic mean using the formulas:\n",
    "\n",
    "$\\overline{X} = \\frac{X_{n}}{n}$\n",
    "\n",
    "\n",
    "$\\overline{Y} = \\frac{Y_{n}}{n}$\n",
    "\n",
    "$\\overline{Z} = \\frac{Z_{n}}{n}$\n",
    "\n",
    "for each decade..."
   ]
  },
  {
   "cell_type": "markdown",
   "id": "d0494c6c-7461-479b-ae3d-ebf710184be8",
   "metadata": {},
   "source": [
    "---\n",
    "So  we need to do our analysis on the subset out each decade.\n",
    "\n",
    "Hmm...\n",
    "\n",
    "We need to go back to our indexing expertise. "
   ]
  },
  {
   "cell_type": "code",
   "execution_count": null,
   "id": "b6ab05fe-6825-45fa-8e7e-c76e6536a7c5",
   "metadata": {},
   "outputs": [],
   "source": [
    "# Let's look at our dataframe. Make sure you have a column for latitude and longitude (that you calculated!)\n",
    "df"
   ]
  },
  {
   "cell_type": "code",
   "execution_count": null,
   "id": "08b7f8cd-5a92-484e-bc1f-0400936544dc",
   "metadata": {},
   "outputs": [],
   "source": [
    "# Let's take the mean values for the data from the 1960's\n",
    "data_1960X = np.mean(df.loc[(df['Decade'] == 1960)])\n",
    "data_1960X"
   ]
  },
  {
   "cell_type": "markdown",
   "id": "9f70e3d4-5e9a-4823-a851-f33af5e2d446",
   "metadata": {},
   "source": [
    "---\n",
    "While that was pretty sweet, doing this for all of the decades will be a pain. Plus then you are going to have a variable (like data_1960X for each of the decades. \n",
    "\n",
    "This is where the power of computing really shows its strengths.\n",
    "\n",
    "Pandas `groupby` groups data according to the categories and apply a function to the categories.\n",
    "\n",
    "Let me show you what I mean."
   ]
  },
  {
   "cell_type": "code",
   "execution_count": null,
   "id": "c3c1dd28-ee50-4099-80e3-58f4350241a3",
   "metadata": {},
   "outputs": [],
   "source": [
    "geogMean = df.groupby(['Decade']).mean()\n",
    "geogMean"
   ]
  },
  {
   "cell_type": "markdown",
   "id": "3a0a30be-fa73-4667-be5c-7ef4be037ecd",
   "metadata": {},
   "source": [
    "Holy Cow - that was slick. But it looks like `Decade` is not a column name, and is instead an index. (This caused me a lot of suffering while developing this lab!)\n",
    "\n",
    "> Let's redo our work, but clean up our dataset."
   ]
  },
  {
   "cell_type": "code",
   "execution_count": null,
   "id": "0dcecb84-5ffa-41f0-a510-ffc8eed15263",
   "metadata": {},
   "outputs": [],
   "source": [
    "geogMean = df.groupby(['Decade'],as_index=False).mean() # Don't make decade an Index! Instead it should be a column name.\n",
    "geogMean"
   ]
  },
  {
   "cell_type": "markdown",
   "id": "5fd98b9f-b0e6-4f7a-a74e-7ca6eeb10576",
   "metadata": {},
   "source": [
    "## Questions\n",
    "### 3. What is the mean x,y, and z coordinate for 2010?"
   ]
  },
  {
   "cell_type": "markdown",
   "id": "e4812637-a8a3-4e63-a780-c85aa7031049",
   "metadata": {},
   "source": [
    "---\n",
    "# Converting back to lat and long\n",
    "\n",
    "As we discussed in class lat and lon are great for mapping things on a flat map, but do not do so well with measuring distances on a sphere. \n",
    "\n",
    "To display our mean centers on a webmap we have to take our x,y, and z measuremtns and return them to Lat and Long\n",
    "\n",
    "Convert lat and lon to degrees from radians.\n",
    "\n",
    "```\n",
    "meanLat = meanLat * 180/PI\n",
    "meanLon = meanLon * 180/PI\n",
    "```\n",
    "\n",
    "Convert average x, y, z coordinate to latitude and longitude. \n",
    "\n",
    "```\n",
    "meanLon = arctan2(y, x)\n",
    "Hyp = sqrt(x * x + y * y)\n",
    "meanLat = arctan2(z, hyp)\n",
    "```"
   ]
  },
  {
   "cell_type": "code",
   "execution_count": null,
   "id": "9ac7dff0-b1d2-4273-86df-23ea533b5cdb",
   "metadata": {
    "tags": []
   },
   "outputs": [],
   "source": [
    "geogMean[\"meanLon\"] = (np.arctan2(geogMean.Y, geogMean.X)) * (180/PI)\n",
    "Hyp = np.sqrt(geogMean.X * geogMean.X + geogMean.Y * geogMean.Y)\n",
    "\n",
    "geogMean"
   ]
  },
  {
   "cell_type": "code",
   "execution_count": null,
   "id": "9b54eca4-941f-4691-a586-8d81b69662fb",
   "metadata": {
    "tags": []
   },
   "outputs": [],
   "source": [
    "#Create a new dataframe to hold the mean latitude and mean longitude from our geogMean dataframe here\n",
    "geogClean = geogMean[['Decade', 'meanLon', 'meanLat']]\n",
    "# Look at the new geogClean dataframe\n",
    "geogClean\n",
    "\n",
    "#HINT: you may need to make an additioanl column to calculate mean lattitude"
   ]
  },
  {
   "cell_type": "markdown",
   "id": "f9a338fe-4a30-4c43-a9de-4c485d968190",
   "metadata": {},
   "source": [
    "### Now on to mapping the data! This is a geospatial class"
   ]
  },
  {
   "cell_type": "code",
   "execution_count": null,
   "id": "05da958c-c582-4f76-a4a0-17d1fa081438",
   "metadata": {
    "tags": []
   },
   "outputs": [],
   "source": [
    "# First, we need to make sure the the decade column in the cleaned dataframe is of type string!\n",
    "geogClean['Decade'] = geogClean['Decade'].apply(str) #Confirms that the decade variable a string"
   ]
  },
  {
   "cell_type": "markdown",
   "id": "3c8b73a6-bff3-484c-b5d0-ba86655c4e65",
   "metadata": {},
   "source": [
    "Now let's map out these data using [Folium](/https://python-visualization.github.io/folium/quickstart.html#Vincent/Vega-and-Altair/VegaLite-Markers). <- Click here for more info!"
   ]
  },
  {
   "cell_type": "code",
   "execution_count": null,
   "id": "50ea6888-3649-4f4c-bca8-8d565c169788",
   "metadata": {},
   "outputs": [],
   "source": [
    "#Create a webmap here that displays the mean centers of MLB teams over time. \n",
    "m = folium.Map(prefer_canvas=True, location=[40.57861,-85.186529],\n",
    "zoom_start=6, tiles=\"Stamen Toner\")\n",
    "\n",
    "for i in range (0,len(geogClean)):\n",
    "  folium.Marker(\n",
    "      location = [geogClean.iloc[i]['meanLat'],geogClean.iloc[i]['meanLon']], \n",
    "      # popup=geogClean.iloc[i]['Decade'],\n",
    "      icon=folium.DivIcon(html=f\"\"\"<div style=\"font-family: courier new; color: blue\">{geogClean.iloc[i]['Decade']}</div>\"\"\")\n",
    "                \n",
    "  ).add_to(m)\n",
    "m"
   ]
  },
  {
   "cell_type": "markdown",
   "id": "3e9667a4-1463-4498-b051-b3650a52df17",
   "metadata": {
    "tags": []
   },
   "source": [
    "## Questions\n",
    "### 4. Our map shows an unweighted spatial **Mean** of professional baseball teams over time. What do you think might change if we graphed the spatial **Median** of the teams? Why?\n",
    "\n",
    "\n",
    "### 5. Liam is a huge baseball fan. According to our map, where should he move to be as close to as many professional teams as possible? \n",
    "\n",
    "\n",
    "### 6. Liam wants to minimize his travel time to see as many games as possible. Do you think he should decide where to move using the spatial mean of the teams or the spatial median? Why?\n",
    "\n"
   ]
  }
 ],
 "metadata": {
  "kernelspec": {
   "display_name": "Python 3 (ipykernel)",
   "language": "python",
   "name": "python3"
  },
  "language_info": {
   "codemirror_mode": {
    "name": "ipython",
    "version": 3
   },
   "file_extension": ".py",
   "mimetype": "text/x-python",
   "name": "python",
   "nbconvert_exporter": "python",
   "pygments_lexer": "ipython3",
   "version": "3.9.5"
  }
 },
 "nbformat": 4,
 "nbformat_minor": 5
}
