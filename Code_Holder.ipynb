{
 "cells": [
  {
   "cell_type": "markdown",
   "id": "83523851-2b6a-4cdc-9a8d-5410f8d696da",
   "metadata": {},
   "source": [
    "# Welcome to GPHY 504! Today we are going to learn a little bit about GitHub and how to use this helpful code repository in your own research. If you have made it this far, congrats! Now, let's get started. "
   ]
  },
  {
   "cell_type": "code",
   "execution_count": null,
   "id": "00eaae0b-a1ea-4e26-90ca-434eed7a416f",
   "metadata": {},
   "outputs": [],
   "source": []
  }
 ],
 "metadata": {
  "kernelspec": {
   "display_name": "Python 3 (ipykernel)",
   "language": "python",
   "name": "python3"
  },
  "language_info": {
   "codemirror_mode": {
    "name": "ipython",
    "version": 3
   },
   "file_extension": ".py",
   "mimetype": "text/x-python",
   "name": "python",
   "nbconvert_exporter": "python",
   "pygments_lexer": "ipython3",
   "version": "3.10.5"
  }
 },
 "nbformat": 4,
 "nbformat_minor": 5
}
